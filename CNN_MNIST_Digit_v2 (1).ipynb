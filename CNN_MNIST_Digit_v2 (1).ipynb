{
  "cells": [
    {
      "cell_type": "code",
      "execution_count": 64,
      "id": "b92646c7",
      "metadata": {
        "id": "b92646c7"
      },
      "outputs": [],
      "source": [
        "import tensorflow as tf\n",
        "from tensorflow import keras\n",
        "from keras.datasets import mnist\n",
        "from keras.models import Sequential\n",
        "from keras.layers import Dense,Conv2D,MaxPool2D,Flatten"
      ]
    },
    {
      "cell_type": "code",
      "execution_count": 65,
      "id": "d45427d2",
      "metadata": {
        "id": "d45427d2"
      },
      "outputs": [],
      "source": [
        "#load_data\n",
        "(X_train,y_train),(X_test,y_test)=keras.datasets.mnist.load_data()"
      ]
    },
    {
      "cell_type": "code",
      "execution_count": 66,
      "id": "bc46501e",
      "metadata": {
        "id": "bc46501e"
      },
      "outputs": [],
      "source": [
        "X_train = X_train.astype('float32')\n",
        "X_test = X_test.astype('float32')\n",
        "# normalizing the data to help with the training\n",
        "X_train /= 255\n",
        "X_test /= 255"
      ]
    },
    {
      "cell_type": "code",
      "execution_count": 67,
      "id": "21f4424f",
      "metadata": {
        "colab": {
          "base_uri": "https://localhost:8080/"
        },
        "id": "21f4424f",
        "outputId": "085946ae-3358-427e-de55-16878a738082"
      },
      "outputs": [
        {
          "output_type": "execute_result",
          "data": {
            "text/plain": [
              "(60000, 28, 28)"
            ]
          },
          "metadata": {},
          "execution_count": 67
        }
      ],
      "source": [
        "X_train.shape"
      ]
    },
    {
      "cell_type": "code",
      "execution_count": 68,
      "id": "aa6d9676",
      "metadata": {
        "colab": {
          "base_uri": "https://localhost:8080/"
        },
        "id": "aa6d9676",
        "outputId": "cfbff8ce-7229-45a3-832d-a91d237aa680"
      },
      "outputs": [
        {
          "output_type": "execute_result",
          "data": {
            "text/plain": [
              "(28, 28)"
            ]
          },
          "metadata": {},
          "execution_count": 68
        }
      ],
      "source": [
        "X_train[0].shape"
      ]
    },
    {
      "cell_type": "code",
      "execution_count": 69,
      "id": "605923f5",
      "metadata": {
        "id": "605923f5"
      },
      "outputs": [],
      "source": [
        "#reshaping train and test data\n",
        "X_train=X_train.reshape(X_train.shape[0],28,28,1)\n",
        "X_test=X_test.reshape(X_test.shape[0],28,28,1)"
      ]
    },
    {
      "cell_type": "code",
      "execution_count": 70,
      "id": "794d4b16",
      "metadata": {
        "colab": {
          "base_uri": "https://localhost:8080/"
        },
        "id": "794d4b16",
        "outputId": "60bb07b2-8e5c-4c3c-fc50-851a5ab9d76b"
      },
      "outputs": [
        {
          "output_type": "execute_result",
          "data": {
            "text/plain": [
              "(28, 28, 1)"
            ]
          },
          "metadata": {},
          "execution_count": 70
        }
      ],
      "source": [
        "X_train[0].shape"
      ]
    },
    {
      "cell_type": "code",
      "execution_count": 71,
      "id": "6cc408d8",
      "metadata": {
        "colab": {
          "base_uri": "https://localhost:8080/"
        },
        "id": "6cc408d8",
        "outputId": "bc04dca0-2ce8-4b7f-d4c7-30bda98fae50"
      },
      "outputs": [
        {
          "output_type": "execute_result",
          "data": {
            "text/plain": [
              "(28, 28, 1)"
            ]
          },
          "metadata": {},
          "execution_count": 71
        }
      ],
      "source": [
        "X_test[0].shape"
      ]
    },
    {
      "cell_type": "code",
      "execution_count": 84,
      "id": "a5187f5e",
      "metadata": {
        "id": "a5187f5e"
      },
      "outputs": [],
      "source": [
        "#create model obj.\n",
        "model=Sequential()"
      ]
    },
    {
      "cell_type": "code",
      "execution_count": 85,
      "id": "20aa75a7",
      "metadata": {
        "id": "20aa75a7"
      },
      "outputs": [],
      "source": [
        "#1st convolution layer\n",
        "conv_layer1=Conv2D(filters=32,\n",
        "                   kernel_size=(3,3),\n",
        "                   strides=(1, 1),\n",
        "                   padding='valid',\n",
        "                   activation='relu',\n",
        "                   input_shape=(28,28,1))"
      ]
    },
    {
      "cell_type": "code",
      "execution_count": 86,
      "id": "43d7e96e",
      "metadata": {
        "id": "43d7e96e"
      },
      "outputs": [],
      "source": [
        "#maxpooling layer\n",
        "max_layer1=MaxPool2D(pool_size=(2,2))"
      ]
    },
    {
      "cell_type": "code",
      "execution_count": 87,
      "id": "9b2b7b1c",
      "metadata": {
        "id": "9b2b7b1c"
      },
      "outputs": [],
      "source": [
        "flatten_layer=Flatten()"
      ]
    },
    {
      "cell_type": "code",
      "execution_count": 88,
      "id": "3e5090cb",
      "metadata": {
        "id": "3e5090cb"
      },
      "outputs": [],
      "source": [
        "dense_layer1=Dense(units=20,activation='relu')"
      ]
    },
    {
      "cell_type": "code",
      "execution_count": 89,
      "id": "67fa7c95",
      "metadata": {
        "id": "67fa7c95"
      },
      "outputs": [],
      "source": [
        "output_layer=Dense(units=10,activation='softmax')"
      ]
    },
    {
      "cell_type": "code",
      "execution_count": 90,
      "id": "4eb572a1",
      "metadata": {
        "id": "4eb572a1"
      },
      "outputs": [],
      "source": [
        "#adding all layers in cnn model\n",
        "model.add(conv_layer1)\n",
        "model.add(max_layer1)\n",
        "model.add(flatten_layer)\n",
        "model.add(dense_layer1)\n",
        "model.add(output_layer)"
      ]
    },
    {
      "cell_type": "code",
      "execution_count": 91,
      "id": "cebb3be9",
      "metadata": {
        "colab": {
          "base_uri": "https://localhost:8080/"
        },
        "id": "cebb3be9",
        "outputId": "f564cf52-eddc-46c0-a6d3-a77730320598"
      },
      "outputs": [
        {
          "output_type": "stream",
          "name": "stdout",
          "text": [
            "Model: \"sequential_8\"\n",
            "_________________________________________________________________\n",
            " Layer (type)                Output Shape              Param #   \n",
            "=================================================================\n",
            " conv2d_8 (Conv2D)           (None, 26, 26, 32)        320       \n",
            "                                                                 \n",
            " max_pooling2d_8 (MaxPooling  (None, 13, 13, 32)       0         \n",
            " 2D)                                                             \n",
            "                                                                 \n",
            " flatten_8 (Flatten)         (None, 5408)              0         \n",
            "                                                                 \n",
            " dense_16 (Dense)            (None, 20)                108180    \n",
            "                                                                 \n",
            " dense_17 (Dense)            (None, 10)                210       \n",
            "                                                                 \n",
            "=================================================================\n",
            "Total params: 108,710\n",
            "Trainable params: 108,710\n",
            "Non-trainable params: 0\n",
            "_________________________________________________________________\n"
          ]
        }
      ],
      "source": [
        "model.summary()"
      ]
    },
    {
      "cell_type": "code",
      "execution_count": 92,
      "id": "4c24c7da",
      "metadata": {
        "id": "4c24c7da"
      },
      "outputs": [],
      "source": [
        "#compile model\n",
        "model.compile(optimizer='adam',loss=\"sparse_categorical_crossentropy\",metrics=['accuracy'])"
      ]
    },
    {
      "cell_type": "code",
      "execution_count": 93,
      "id": "b5dae847",
      "metadata": {
        "colab": {
          "base_uri": "https://localhost:8080/"
        },
        "id": "b5dae847",
        "outputId": "8b787b84-281e-43a4-a67c-e08061e5f11e"
      },
      "outputs": [
        {
          "output_type": "execute_result",
          "data": {
            "text/plain": [
              "(10000,)"
            ]
          },
          "metadata": {},
          "execution_count": 93
        }
      ],
      "source": [
        "y_test.shape"
      ]
    },
    {
      "cell_type": "code",
      "execution_count": 94,
      "id": "52192bc6",
      "metadata": {
        "colab": {
          "base_uri": "https://localhost:8080/"
        },
        "id": "52192bc6",
        "outputId": "fdc6d472-4ad6-43ce-d68c-3556e2dc6318"
      },
      "outputs": [
        {
          "output_type": "stream",
          "name": "stdout",
          "text": [
            "Epoch 1/10\n",
            "469/469 [==============================] - 25s 52ms/step - loss: 0.3496 - accuracy: 0.8984 - val_loss: 0.1398 - val_accuracy: 0.9590\n",
            "Epoch 2/10\n",
            "469/469 [==============================] - 23s 50ms/step - loss: 0.1142 - accuracy: 0.9670 - val_loss: 0.0840 - val_accuracy: 0.9739\n",
            "Epoch 3/10\n",
            "469/469 [==============================] - 23s 50ms/step - loss: 0.0776 - accuracy: 0.9775 - val_loss: 0.0673 - val_accuracy: 0.9792\n",
            "Epoch 4/10\n",
            "469/469 [==============================] - 24s 52ms/step - loss: 0.0600 - accuracy: 0.9824 - val_loss: 0.0592 - val_accuracy: 0.9821\n",
            "Epoch 5/10\n",
            "469/469 [==============================] - 25s 53ms/step - loss: 0.0506 - accuracy: 0.9845 - val_loss: 0.0611 - val_accuracy: 0.9805\n",
            "Epoch 6/10\n",
            "469/469 [==============================] - 22s 48ms/step - loss: 0.0436 - accuracy: 0.9877 - val_loss: 0.0518 - val_accuracy: 0.9824\n",
            "Epoch 7/10\n",
            "469/469 [==============================] - 24s 50ms/step - loss: 0.0370 - accuracy: 0.9892 - val_loss: 0.0516 - val_accuracy: 0.9826\n",
            "Epoch 8/10\n",
            "469/469 [==============================] - 24s 50ms/step - loss: 0.0326 - accuracy: 0.9902 - val_loss: 0.0613 - val_accuracy: 0.9798\n",
            "Epoch 9/10\n",
            "469/469 [==============================] - 24s 50ms/step - loss: 0.0288 - accuracy: 0.9915 - val_loss: 0.0573 - val_accuracy: 0.9822\n",
            "Epoch 10/10\n",
            "469/469 [==============================] - 24s 50ms/step - loss: 0.0256 - accuracy: 0.9925 - val_loss: 0.0513 - val_accuracy: 0.9851\n"
          ]
        },
        {
          "output_type": "execute_result",
          "data": {
            "text/plain": [
              "<keras.callbacks.History at 0x7f2e86977d30>"
            ]
          },
          "metadata": {},
          "execution_count": 94
        }
      ],
      "source": [
        "#train cnn model\n",
        "model.fit(X_train,y_train,epochs=10,validation_data=(X_test,y_test),batch_size=128, verbose=1)"
      ]
    },
    {
      "cell_type": "code",
      "execution_count": 95,
      "id": "fc8612b0",
      "metadata": {
        "colab": {
          "base_uri": "https://localhost:8080/"
        },
        "id": "fc8612b0",
        "outputId": "faada220-4032-4adb-b3c5-e5721a2b3d56"
      },
      "outputs": [
        {
          "output_type": "stream",
          "name": "stdout",
          "text": [
            "313/313 [==============================] - 3s 8ms/step - loss: 0.0513 - accuracy: 0.9851\n"
          ]
        },
        {
          "output_type": "execute_result",
          "data": {
            "text/plain": [
              "[0.05134764313697815, 0.9850999712944031]"
            ]
          },
          "metadata": {},
          "execution_count": 95
        }
      ],
      "source": [
        "model.evaluate(X_test,y_test)"
      ]
    },
    {
      "cell_type": "code",
      "execution_count": null,
      "id": "8b78fa83",
      "metadata": {
        "id": "8b78fa83"
      },
      "outputs": [],
      "source": []
    },
    {
      "cell_type": "code",
      "execution_count": null,
      "id": "d8863857",
      "metadata": {
        "id": "d8863857"
      },
      "outputs": [],
      "source": []
    },
    {
      "cell_type": "code",
      "execution_count": null,
      "id": "e5f20792",
      "metadata": {
        "id": "e5f20792"
      },
      "outputs": [],
      "source": []
    },
    {
      "cell_type": "code",
      "execution_count": null,
      "id": "0352b0a4",
      "metadata": {
        "id": "0352b0a4"
      },
      "outputs": [],
      "source": []
    }
  ],
  "metadata": {
    "kernelspec": {
      "display_name": "Python 3 (ipykernel)",
      "language": "python",
      "name": "python3"
    },
    "language_info": {
      "codemirror_mode": {
        "name": "ipython",
        "version": 3
      },
      "file_extension": ".py",
      "mimetype": "text/x-python",
      "name": "python",
      "nbconvert_exporter": "python",
      "pygments_lexer": "ipython3",
      "version": "3.10.9"
    },
    "colab": {
      "provenance": []
    }
  },
  "nbformat": 4,
  "nbformat_minor": 5
}