{
 "cells": [
  {
   "cell_type": "code",
   "execution_count": 1,
   "id": "16c9c579",
   "metadata": {
    "collapsed": true
   },
   "outputs": [
    {
     "name": "stdout",
     "output_type": "stream",
     "text": [
      "Requirement already satisfied: tensorflow in c:\\users\\nilay\\anaconda3\\lib\\site-packages (2.12.0)\n",
      "Requirement already satisfied: tensorflow-intel==2.12.0 in c:\\users\\nilay\\anaconda3\\lib\\site-packages (from tensorflow) (2.12.0)\n",
      "Requirement already satisfied: tensorflow-io-gcs-filesystem>=0.23.1 in c:\\users\\nilay\\anaconda3\\lib\\site-packages (from tensorflow-intel==2.12.0->tensorflow) (0.31.0)\n",
      "Requirement already satisfied: opt-einsum>=2.3.2 in c:\\users\\nilay\\anaconda3\\lib\\site-packages (from tensorflow-intel==2.12.0->tensorflow) (3.3.0)\n",
      "Requirement already satisfied: six>=1.12.0 in c:\\users\\nilay\\anaconda3\\lib\\site-packages (from tensorflow-intel==2.12.0->tensorflow) (1.16.0)\n",
      "Requirement already satisfied: tensorflow-estimator<2.13,>=2.12.0 in c:\\users\\nilay\\anaconda3\\lib\\site-packages (from tensorflow-intel==2.12.0->tensorflow) (2.12.0)\n",
      "Requirement already satisfied: astunparse>=1.6.0 in c:\\users\\nilay\\anaconda3\\lib\\site-packages (from tensorflow-intel==2.12.0->tensorflow) (1.6.3)\n",
      "Requirement already satisfied: typing-extensions>=3.6.6 in c:\\users\\nilay\\anaconda3\\lib\\site-packages (from tensorflow-intel==2.12.0->tensorflow) (4.4.0)\n",
      "Requirement already satisfied: termcolor>=1.1.0 in c:\\users\\nilay\\anaconda3\\lib\\site-packages (from tensorflow-intel==2.12.0->tensorflow) (2.3.0)\n",
      "Requirement already satisfied: packaging in c:\\users\\nilay\\anaconda3\\lib\\site-packages (from tensorflow-intel==2.12.0->tensorflow) (22.0)\n",
      "Requirement already satisfied: tensorboard<2.13,>=2.12 in c:\\users\\nilay\\anaconda3\\lib\\site-packages (from tensorflow-intel==2.12.0->tensorflow) (2.12.2)\n",
      "Requirement already satisfied: keras<2.13,>=2.12.0 in c:\\users\\nilay\\anaconda3\\lib\\site-packages (from tensorflow-intel==2.12.0->tensorflow) (2.12.0)\n",
      "Requirement already satisfied: libclang>=13.0.0 in c:\\users\\nilay\\anaconda3\\lib\\site-packages (from tensorflow-intel==2.12.0->tensorflow) (16.0.0)\n",
      "Requirement already satisfied: google-pasta>=0.1.1 in c:\\users\\nilay\\anaconda3\\lib\\site-packages (from tensorflow-intel==2.12.0->tensorflow) (0.2.0)\n",
      "Requirement already satisfied: h5py>=2.9.0 in c:\\users\\nilay\\anaconda3\\lib\\site-packages (from tensorflow-intel==2.12.0->tensorflow) (3.7.0)\n",
      "Requirement already satisfied: wrapt<1.15,>=1.11.0 in c:\\users\\nilay\\anaconda3\\lib\\site-packages (from tensorflow-intel==2.12.0->tensorflow) (1.14.1)\n",
      "Requirement already satisfied: protobuf!=4.21.0,!=4.21.1,!=4.21.2,!=4.21.3,!=4.21.4,!=4.21.5,<5.0.0dev,>=3.20.3 in c:\\users\\nilay\\anaconda3\\lib\\site-packages (from tensorflow-intel==2.12.0->tensorflow) (3.20.3)\n",
      "Requirement already satisfied: grpcio<2.0,>=1.24.3 in c:\\users\\nilay\\anaconda3\\lib\\site-packages (from tensorflow-intel==2.12.0->tensorflow) (1.54.0)\n",
      "Requirement already satisfied: absl-py>=1.0.0 in c:\\users\\nilay\\anaconda3\\lib\\site-packages (from tensorflow-intel==2.12.0->tensorflow) (1.4.0)\n",
      "Requirement already satisfied: jax>=0.3.15 in c:\\users\\nilay\\anaconda3\\lib\\site-packages (from tensorflow-intel==2.12.0->tensorflow) (0.4.8)\n",
      "Requirement already satisfied: gast<=0.4.0,>=0.2.1 in c:\\users\\nilay\\anaconda3\\lib\\site-packages (from tensorflow-intel==2.12.0->tensorflow) (0.4.0)\n",
      "Requirement already satisfied: numpy<1.24,>=1.22 in c:\\users\\nilay\\anaconda3\\lib\\site-packages (from tensorflow-intel==2.12.0->tensorflow) (1.23.5)\n",
      "Requirement already satisfied: flatbuffers>=2.0 in c:\\users\\nilay\\anaconda3\\lib\\site-packages (from tensorflow-intel==2.12.0->tensorflow) (23.3.3)\n",
      "Requirement already satisfied: setuptools in c:\\users\\nilay\\anaconda3\\lib\\site-packages (from tensorflow-intel==2.12.0->tensorflow) (65.6.3)\n",
      "Requirement already satisfied: wheel<1.0,>=0.23.0 in c:\\users\\nilay\\anaconda3\\lib\\site-packages (from astunparse>=1.6.0->tensorflow-intel==2.12.0->tensorflow) (0.38.4)\n",
      "Requirement already satisfied: ml-dtypes>=0.0.3 in c:\\users\\nilay\\anaconda3\\lib\\site-packages (from jax>=0.3.15->tensorflow-intel==2.12.0->tensorflow) (0.1.0)\n",
      "Requirement already satisfied: scipy>=1.7 in c:\\users\\nilay\\anaconda3\\lib\\site-packages (from jax>=0.3.15->tensorflow-intel==2.12.0->tensorflow) (1.9.3)\n",
      "Requirement already satisfied: google-auth<3,>=1.6.3 in c:\\users\\nilay\\anaconda3\\lib\\site-packages (from tensorboard<2.13,>=2.12->tensorflow-intel==2.12.0->tensorflow) (2.17.3)\n",
      "Requirement already satisfied: tensorboard-plugin-wit>=1.6.0 in c:\\users\\nilay\\anaconda3\\lib\\site-packages (from tensorboard<2.13,>=2.12->tensorflow-intel==2.12.0->tensorflow) (1.8.1)\n",
      "Requirement already satisfied: markdown>=2.6.8 in c:\\users\\nilay\\anaconda3\\lib\\site-packages (from tensorboard<2.13,>=2.12->tensorflow-intel==2.12.0->tensorflow) (3.4.1)\n",
      "Requirement already satisfied: google-auth-oauthlib<1.1,>=0.5 in c:\\users\\nilay\\anaconda3\\lib\\site-packages (from tensorboard<2.13,>=2.12->tensorflow-intel==2.12.0->tensorflow) (1.0.0)\n",
      "Requirement already satisfied: requests<3,>=2.21.0 in c:\\users\\nilay\\anaconda3\\lib\\site-packages (from tensorboard<2.13,>=2.12->tensorflow-intel==2.12.0->tensorflow) (2.28.1)\n",
      "Requirement already satisfied: tensorboard-data-server<0.8.0,>=0.7.0 in c:\\users\\nilay\\anaconda3\\lib\\site-packages (from tensorboard<2.13,>=2.12->tensorflow-intel==2.12.0->tensorflow) (0.7.0)\n",
      "Requirement already satisfied: werkzeug>=1.0.1 in c:\\users\\nilay\\anaconda3\\lib\\site-packages (from tensorboard<2.13,>=2.12->tensorflow-intel==2.12.0->tensorflow) (2.2.2)\n",
      "Requirement already satisfied: cachetools<6.0,>=2.0.0 in c:\\users\\nilay\\anaconda3\\lib\\site-packages (from google-auth<3,>=1.6.3->tensorboard<2.13,>=2.12->tensorflow-intel==2.12.0->tensorflow) (5.3.0)\n",
      "Requirement already satisfied: pyasn1-modules>=0.2.1 in c:\\users\\nilay\\anaconda3\\lib\\site-packages (from google-auth<3,>=1.6.3->tensorboard<2.13,>=2.12->tensorflow-intel==2.12.0->tensorflow) (0.2.8)\n",
      "Requirement already satisfied: rsa<5,>=3.1.4 in c:\\users\\nilay\\anaconda3\\lib\\site-packages (from google-auth<3,>=1.6.3->tensorboard<2.13,>=2.12->tensorflow-intel==2.12.0->tensorflow) (4.9)\n",
      "Requirement already satisfied: requests-oauthlib>=0.7.0 in c:\\users\\nilay\\anaconda3\\lib\\site-packages (from google-auth-oauthlib<1.1,>=0.5->tensorboard<2.13,>=2.12->tensorflow-intel==2.12.0->tensorflow) (1.3.1)\n",
      "Requirement already satisfied: charset-normalizer<3,>=2 in c:\\users\\nilay\\anaconda3\\lib\\site-packages (from requests<3,>=2.21.0->tensorboard<2.13,>=2.12->tensorflow-intel==2.12.0->tensorflow) (2.0.4)\n",
      "Requirement already satisfied: urllib3<1.27,>=1.21.1 in c:\\users\\nilay\\anaconda3\\lib\\site-packages (from requests<3,>=2.21.0->tensorboard<2.13,>=2.12->tensorflow-intel==2.12.0->tensorflow) (1.26.14)\n",
      "Requirement already satisfied: certifi>=2017.4.17 in c:\\users\\nilay\\anaconda3\\lib\\site-packages (from requests<3,>=2.21.0->tensorboard<2.13,>=2.12->tensorflow-intel==2.12.0->tensorflow) (2023.5.7)\n",
      "Requirement already satisfied: idna<4,>=2.5 in c:\\users\\nilay\\anaconda3\\lib\\site-packages (from requests<3,>=2.21.0->tensorboard<2.13,>=2.12->tensorflow-intel==2.12.0->tensorflow) (3.4)\n",
      "Requirement already satisfied: MarkupSafe>=2.1.1 in c:\\users\\nilay\\anaconda3\\lib\\site-packages (from werkzeug>=1.0.1->tensorboard<2.13,>=2.12->tensorflow-intel==2.12.0->tensorflow) (2.1.1)\n",
      "Requirement already satisfied: pyasn1<0.5.0,>=0.4.6 in c:\\users\\nilay\\anaconda3\\lib\\site-packages (from pyasn1-modules>=0.2.1->google-auth<3,>=1.6.3->tensorboard<2.13,>=2.12->tensorflow-intel==2.12.0->tensorflow) (0.4.8)\n",
      "Requirement already satisfied: oauthlib>=3.0.0 in c:\\users\\nilay\\anaconda3\\lib\\site-packages (from requests-oauthlib>=0.7.0->google-auth-oauthlib<1.1,>=0.5->tensorboard<2.13,>=2.12->tensorflow-intel==2.12.0->tensorflow) (3.2.2)\n"
     ]
    },
    {
     "name": "stderr",
     "output_type": "stream",
     "text": [
      "WARNING: Ignoring invalid distribution -yspark (c:\\users\\nilay\\anaconda3\\lib\\site-packages)\n",
      "WARNING: Ignoring invalid distribution -rotobuf (c:\\users\\nilay\\anaconda3\\lib\\site-packages)\n",
      "WARNING: Ignoring invalid distribution -yspark (c:\\users\\nilay\\anaconda3\\lib\\site-packages)\n",
      "WARNING: Ignoring invalid distribution -rotobuf (c:\\users\\nilay\\anaconda3\\lib\\site-packages)\n",
      "WARNING: Ignoring invalid distribution -yspark (c:\\users\\nilay\\anaconda3\\lib\\site-packages)\n",
      "WARNING: Ignoring invalid distribution -rotobuf (c:\\users\\nilay\\anaconda3\\lib\\site-packages)\n",
      "WARNING: Ignoring invalid distribution -yspark (c:\\users\\nilay\\anaconda3\\lib\\site-packages)\n",
      "WARNING: Ignoring invalid distribution -rotobuf (c:\\users\\nilay\\anaconda3\\lib\\site-packages)\n",
      "WARNING: Ignoring invalid distribution -yspark (c:\\users\\nilay\\anaconda3\\lib\\site-packages)\n",
      "WARNING: Ignoring invalid distribution -rotobuf (c:\\users\\nilay\\anaconda3\\lib\\site-packages)\n",
      "WARNING: Ignoring invalid distribution -yspark (c:\\users\\nilay\\anaconda3\\lib\\site-packages)\n",
      "WARNING: Ignoring invalid distribution -rotobuf (c:\\users\\nilay\\anaconda3\\lib\\site-packages)\n"
     ]
    }
   ],
   "source": [
    "!pip install tensorflow"
   ]
  },
  {
   "cell_type": "code",
   "execution_count": 1,
   "id": "27dd187d",
   "metadata": {},
   "outputs": [],
   "source": [
    "import tensorflow as tf\n",
    "from tensorflow import keras\n",
    "from keras.models import Sequential\n",
    "from keras.layers import Dense,Flatten\n",
    "import numpy as np\n",
    "import pandas as pd\n",
    "import matplotlib.pyplot as plt"
   ]
  },
  {
   "cell_type": "code",
   "execution_count": 2,
   "id": "1cf37858",
   "metadata": {},
   "outputs": [],
   "source": [
    "#load_data\n",
    "(X_train,y_train),(X_test,y_test)=keras.datasets.mnist.load_data()"
   ]
  },
  {
   "cell_type": "code",
   "execution_count": null,
   "id": "9910198b",
   "metadata": {},
   "outputs": [],
   "source": [
    "len(X_train)"
   ]
  },
  {
   "cell_type": "code",
   "execution_count": null,
   "id": "86cab13c",
   "metadata": {},
   "outputs": [],
   "source": [
    "len(X_test)"
   ]
  },
  {
   "cell_type": "code",
   "execution_count": 7,
   "id": "2bb33213",
   "metadata": {},
   "outputs": [
    {
     "data": {
      "text/plain": [
       "numpy.ndarray"
      ]
     },
     "execution_count": 7,
     "metadata": {},
     "output_type": "execute_result"
    }
   ],
   "source": [
    "type(X_train)"
   ]
  },
  {
   "cell_type": "code",
   "execution_count": 8,
   "id": "fda2fc7a",
   "metadata": {
    "scrolled": true
   },
   "outputs": [
    {
     "data": {
      "text/plain": [
       "array([[  0,   0,   0,   0,   0,   0,   0,   0,   0,   0,   0,   0,   0,\n",
       "          0,   0,   0,   0,   0,   0,   0,   0,   0,   0,   0,   0,   0,\n",
       "          0,   0],\n",
       "       [  0,   0,   0,   0,   0,   0,   0,   0,   0,   0,   0,   0,   0,\n",
       "          0,   0,   0,   0,   0,   0,   0,   0,   0,   0,   0,   0,   0,\n",
       "          0,   0],\n",
       "       [  0,   0,   0,   0,   0,   0,   0,   0,   0,   0,   0,   0,   0,\n",
       "          0,   0,   0,   0,   0,   0,   0,   0,   0,   0,   0,   0,   0,\n",
       "          0,   0],\n",
       "       [  0,   0,   0,   0,   0,   0,   0,   0,   0,   0,   0,   0,   0,\n",
       "          0,   0,   0,   0,   0,   0,   0,   0,   0,   0,   0,   0,   0,\n",
       "          0,   0],\n",
       "       [  0,   0,   0,   0,   0,   0,   0,   0,   0,   0,   0,   0,   0,\n",
       "          0,   0,   0,   0,   0,   0,   0,   0,   0,   0,   0,   0,   0,\n",
       "          0,   0],\n",
       "       [  0,   0,   0,   0,   0,   0,   0,   0,   0,   0,   0,   0,   3,\n",
       "         18,  18,  18, 126, 136, 175,  26, 166, 255, 247, 127,   0,   0,\n",
       "          0,   0],\n",
       "       [  0,   0,   0,   0,   0,   0,   0,   0,  30,  36,  94, 154, 170,\n",
       "        253, 253, 253, 253, 253, 225, 172, 253, 242, 195,  64,   0,   0,\n",
       "          0,   0],\n",
       "       [  0,   0,   0,   0,   0,   0,   0,  49, 238, 253, 253, 253, 253,\n",
       "        253, 253, 253, 253, 251,  93,  82,  82,  56,  39,   0,   0,   0,\n",
       "          0,   0],\n",
       "       [  0,   0,   0,   0,   0,   0,   0,  18, 219, 253, 253, 253, 253,\n",
       "        253, 198, 182, 247, 241,   0,   0,   0,   0,   0,   0,   0,   0,\n",
       "          0,   0],\n",
       "       [  0,   0,   0,   0,   0,   0,   0,   0,  80, 156, 107, 253, 253,\n",
       "        205,  11,   0,  43, 154,   0,   0,   0,   0,   0,   0,   0,   0,\n",
       "          0,   0],\n",
       "       [  0,   0,   0,   0,   0,   0,   0,   0,   0,  14,   1, 154, 253,\n",
       "         90,   0,   0,   0,   0,   0,   0,   0,   0,   0,   0,   0,   0,\n",
       "          0,   0],\n",
       "       [  0,   0,   0,   0,   0,   0,   0,   0,   0,   0,   0, 139, 253,\n",
       "        190,   2,   0,   0,   0,   0,   0,   0,   0,   0,   0,   0,   0,\n",
       "          0,   0],\n",
       "       [  0,   0,   0,   0,   0,   0,   0,   0,   0,   0,   0,  11, 190,\n",
       "        253,  70,   0,   0,   0,   0,   0,   0,   0,   0,   0,   0,   0,\n",
       "          0,   0],\n",
       "       [  0,   0,   0,   0,   0,   0,   0,   0,   0,   0,   0,   0,  35,\n",
       "        241, 225, 160, 108,   1,   0,   0,   0,   0,   0,   0,   0,   0,\n",
       "          0,   0],\n",
       "       [  0,   0,   0,   0,   0,   0,   0,   0,   0,   0,   0,   0,   0,\n",
       "         81, 240, 253, 253, 119,  25,   0,   0,   0,   0,   0,   0,   0,\n",
       "          0,   0],\n",
       "       [  0,   0,   0,   0,   0,   0,   0,   0,   0,   0,   0,   0,   0,\n",
       "          0,  45, 186, 253, 253, 150,  27,   0,   0,   0,   0,   0,   0,\n",
       "          0,   0],\n",
       "       [  0,   0,   0,   0,   0,   0,   0,   0,   0,   0,   0,   0,   0,\n",
       "          0,   0,  16,  93, 252, 253, 187,   0,   0,   0,   0,   0,   0,\n",
       "          0,   0],\n",
       "       [  0,   0,   0,   0,   0,   0,   0,   0,   0,   0,   0,   0,   0,\n",
       "          0,   0,   0,   0, 249, 253, 249,  64,   0,   0,   0,   0,   0,\n",
       "          0,   0],\n",
       "       [  0,   0,   0,   0,   0,   0,   0,   0,   0,   0,   0,   0,   0,\n",
       "          0,  46, 130, 183, 253, 253, 207,   2,   0,   0,   0,   0,   0,\n",
       "          0,   0],\n",
       "       [  0,   0,   0,   0,   0,   0,   0,   0,   0,   0,   0,   0,  39,\n",
       "        148, 229, 253, 253, 253, 250, 182,   0,   0,   0,   0,   0,   0,\n",
       "          0,   0],\n",
       "       [  0,   0,   0,   0,   0,   0,   0,   0,   0,   0,  24, 114, 221,\n",
       "        253, 253, 253, 253, 201,  78,   0,   0,   0,   0,   0,   0,   0,\n",
       "          0,   0],\n",
       "       [  0,   0,   0,   0,   0,   0,   0,   0,  23,  66, 213, 253, 253,\n",
       "        253, 253, 198,  81,   2,   0,   0,   0,   0,   0,   0,   0,   0,\n",
       "          0,   0],\n",
       "       [  0,   0,   0,   0,   0,   0,  18, 171, 219, 253, 253, 253, 253,\n",
       "        195,  80,   9,   0,   0,   0,   0,   0,   0,   0,   0,   0,   0,\n",
       "          0,   0],\n",
       "       [  0,   0,   0,   0,  55, 172, 226, 253, 253, 253, 253, 244, 133,\n",
       "         11,   0,   0,   0,   0,   0,   0,   0,   0,   0,   0,   0,   0,\n",
       "          0,   0],\n",
       "       [  0,   0,   0,   0, 136, 253, 253, 253, 212, 135, 132,  16,   0,\n",
       "          0,   0,   0,   0,   0,   0,   0,   0,   0,   0,   0,   0,   0,\n",
       "          0,   0],\n",
       "       [  0,   0,   0,   0,   0,   0,   0,   0,   0,   0,   0,   0,   0,\n",
       "          0,   0,   0,   0,   0,   0,   0,   0,   0,   0,   0,   0,   0,\n",
       "          0,   0],\n",
       "       [  0,   0,   0,   0,   0,   0,   0,   0,   0,   0,   0,   0,   0,\n",
       "          0,   0,   0,   0,   0,   0,   0,   0,   0,   0,   0,   0,   0,\n",
       "          0,   0],\n",
       "       [  0,   0,   0,   0,   0,   0,   0,   0,   0,   0,   0,   0,   0,\n",
       "          0,   0,   0,   0,   0,   0,   0,   0,   0,   0,   0,   0,   0,\n",
       "          0,   0]], dtype=uint8)"
      ]
     },
     "execution_count": 8,
     "metadata": {},
     "output_type": "execute_result"
    }
   ],
   "source": [
    "X_train[0]"
   ]
  },
  {
   "cell_type": "code",
   "execution_count": 9,
   "id": "96c1179f",
   "metadata": {},
   "outputs": [
    {
     "data": {
      "text/plain": [
       "(60000, 28, 28)"
      ]
     },
     "execution_count": 9,
     "metadata": {},
     "output_type": "execute_result"
    }
   ],
   "source": [
    "X_train.shape"
   ]
  },
  {
   "cell_type": "code",
   "execution_count": 10,
   "id": "5e5e871e",
   "metadata": {},
   "outputs": [
    {
     "data": {
      "text/plain": [
       "(28, 28)"
      ]
     },
     "execution_count": 10,
     "metadata": {},
     "output_type": "execute_result"
    }
   ],
   "source": [
    "X_train[0].shape"
   ]
  },
  {
   "cell_type": "code",
   "execution_count": 11,
   "id": "f661f28a",
   "metadata": {},
   "outputs": [
    {
     "name": "stdout",
     "output_type": "stream",
     "text": [
      "0   0   0   0   0   0   0   0   0   0   0   0   0   0   0   0   0   0   0   0   0   0   0   0   0   0   0   0   \n",
      "0   0   0   0   0   0   0   0   0   0   0   0   0   0   0   0   0   0   0   0   0   0   0   0   0   0   0   0   \n",
      "0   0   0   0   0   0   0   0   0   0   0   0   0   0   0   0   0   0   0   0   0   0   0   0   0   0   0   0   \n",
      "0   0   0   0   0   0   0   0   0   0   0   0   0   0   0   0   0   0   0   0   0   0   0   0   0   0   0   0   \n",
      "0   0   0   0   0   0   0   0   0   0   0   0   0   0   0   0   0   0   0   0   0   0   0   0   0   0   0   0   \n",
      "0   0   0   0   0   0   0   0   0   29  150 195 254 255 254 176 193 150 96  0   0   0   0   0   0   0   0   0   \n",
      "0   0   0   0   0   0   0   48  166 224 253 253 234 196 253 253 253 253 233 0   0   0   0   0   0   0   0   0   \n",
      "0   0   0   0   0   93  244 249 253 187 46  10  8   4   10  194 253 253 233 0   0   0   0   0   0   0   0   0   \n",
      "0   0   0   0   0   107 253 253 230 48  0   0   0   0   0   192 253 253 156 0   0   0   0   0   0   0   0   0   \n",
      "0   0   0   0   0   3   20  20  15  0   0   0   0   0   43  224 253 245 74  0   0   0   0   0   0   0   0   0   \n",
      "0   0   0   0   0   0   0   0   0   0   0   0   0   0   249 253 245 126 0   0   0   0   0   0   0   0   0   0   \n",
      "0   0   0   0   0   0   0   0   0   0   0   14  101 223 253 248 124 0   0   0   0   0   0   0   0   0   0   0   \n",
      "0   0   0   0   0   0   0   0   0   11  166 239 253 253 253 187 30  0   0   0   0   0   0   0   0   0   0   0   \n",
      "0   0   0   0   0   0   0   0   0   16  248 250 253 253 253 253 232 213 111 2   0   0   0   0   0   0   0   0   \n",
      "0   0   0   0   0   0   0   0   0   0   0   43  98  98  208 253 253 253 253 187 22  0   0   0   0   0   0   0   \n",
      "0   0   0   0   0   0   0   0   0   0   0   0   0   0   9   51  119 253 253 253 76  0   0   0   0   0   0   0   \n",
      "0   0   0   0   0   0   0   0   0   0   0   0   0   0   0   0   1   183 253 253 139 0   0   0   0   0   0   0   \n",
      "0   0   0   0   0   0   0   0   0   0   0   0   0   0   0   0   0   182 253 253 104 0   0   0   0   0   0   0   \n",
      "0   0   0   0   0   0   0   0   0   0   0   0   0   0   0   0   85  249 253 253 36  0   0   0   0   0   0   0   \n",
      "0   0   0   0   0   0   0   0   0   0   0   0   0   0   0   60  214 253 253 173 11  0   0   0   0   0   0   0   \n",
      "0   0   0   0   0   0   0   0   0   0   0   0   0   0   98  247 253 253 226 9   0   0   0   0   0   0   0   0   \n",
      "0   0   0   0   0   0   0   0   0   0   0   0   42  150 252 253 253 233 53  0   0   0   0   0   0   0   0   0   \n",
      "0   0   0   0   0   0   42  115 42  60  115 159 240 253 253 250 175 25  0   0   0   0   0   0   0   0   0   0   \n",
      "0   0   0   0   0   0   187 253 253 253 253 253 253 253 197 86  0   0   0   0   0   0   0   0   0   0   0   0   \n",
      "0   0   0   0   0   0   103 253 253 253 253 253 232 67  1   0   0   0   0   0   0   0   0   0   0   0   0   0   \n",
      "0   0   0   0   0   0   0   0   0   0   0   0   0   0   0   0   0   0   0   0   0   0   0   0   0   0   0   0   \n",
      "0   0   0   0   0   0   0   0   0   0   0   0   0   0   0   0   0   0   0   0   0   0   0   0   0   0   0   0   \n",
      "0   0   0   0   0   0   0   0   0   0   0   0   0   0   0   0   0   0   0   0   0   0   0   0   0   0   0   0   \n"
     ]
    }
   ],
   "source": [
    "for row in X_train[10000]:\n",
    "    row=row.tolist()\n",
    "    for i in row:\n",
    "        print(str(i).ljust(4), end='')\n",
    "    print()"
   ]
  },
  {
   "cell_type": "code",
   "execution_count": 12,
   "id": "1701bbb2",
   "metadata": {},
   "outputs": [
    {
     "data": {
      "text/plain": [
       "<matplotlib.image.AxesImage at 0x1c4592086a0>"
      ]
     },
     "execution_count": 12,
     "metadata": {},
     "output_type": "execute_result"
    },
    {
     "data": {
      "image/png": "[encoded data removed]",
      "text/plain": [
       "<Figure size 640x480 with 1 Axes>"
      ]
     },
     "metadata": {},
     "output_type": "display_data"
    }
   ],
   "source": [
    "plt.imshow(X_train[10], cmap='gray')"
   ]
  },
  {
   "cell_type": "code",
   "execution_count": 13,
   "id": "532215e7",
   "metadata": {},
   "outputs": [
    {
     "data": {
      "text/plain": [
       "3"
      ]
     },
     "execution_count": 13,
     "metadata": {},
     "output_type": "execute_result"
    }
   ],
   "source": [
    "y_train[10]"
   ]
  },
  {
   "cell_type": "code",
   "execution_count": 14,
   "id": "304f2dd3",
   "metadata": {},
   "outputs": [
    {
     "data": {
      "image/png": "[encoded data removed]",
      "text/plain": [
       "<Figure size 1000x400 with 10 Axes>"
      ]
     },
     "metadata": {},
     "output_type": "display_data"
    }
   ],
   "source": [
    "# Display some images\n",
    "fig, axes = plt.subplots(ncols=10, sharex=False, \n",
    "    sharey=True, figsize=(10, 4))\n",
    "for i in range(10):\n",
    "    axes[i].set_title(y_train[i])\n",
    "    axes[i].imshow(X_train[i], cmap='gray')\n",
    "    axes[i].get_xaxis().set_visible(False)\n",
    "    axes[i].get_yaxis().set_visible(False)\n",
    "plt.show()"
   ]
  },
  {
   "cell_type": "code",
   "execution_count": 3,
   "id": "78e5cfa3",
   "metadata": {},
   "outputs": [],
   "source": [
    "X_train=X_train/255\n",
    "X_test=X_test/255"
   ]
  },
  {
   "cell_type": "code",
   "execution_count": 16,
   "id": "802209d0",
   "metadata": {},
   "outputs": [
    {
     "data": {
      "text/plain": [
       "array([[0.        , 0.        , 0.        , 0.        , 0.        ,\n",
       "        0.        , 0.        , 0.        , 0.        , 0.        ,\n",
       "        0.        , 0.        , 0.        , 0.        , 0.        ,\n",
       "        0.        , 0.        , 0.        , 0.        , 0.        ,\n",
       "        0.        , 0.        , 0.        , 0.        , 0.        ,\n",
       "        0.        , 0.        , 0.        ],\n",
       "       [0.        , 0.        , 0.        , 0.        , 0.        ,\n",
       "        0.        , 0.        , 0.        , 0.        , 0.        ,\n",
       "        0.        , 0.        , 0.        , 0.        , 0.        ,\n",
       "        0.        , 0.        , 0.        , 0.        , 0.        ,\n",
       "        0.        , 0.        , 0.        , 0.        , 0.        ,\n",
       "        0.        , 0.        , 0.        ],\n",
       "       [0.        , 0.        , 0.        , 0.        , 0.        ,\n",
       "        0.        , 0.        , 0.        , 0.        , 0.        ,\n",
       "        0.        , 0.        , 0.        , 0.        , 0.        ,\n",
       "        0.        , 0.        , 0.        , 0.        , 0.        ,\n",
       "        0.        , 0.        , 0.        , 0.        , 0.        ,\n",
       "        0.        , 0.        , 0.        ],\n",
       "       [0.        , 0.        , 0.        , 0.        , 0.        ,\n",
       "        0.        , 0.        , 0.        , 0.        , 0.        ,\n",
       "        0.        , 0.        , 0.        , 0.        , 0.        ,\n",
       "        0.        , 0.        , 0.        , 0.        , 0.        ,\n",
       "        0.        , 0.        , 0.        , 0.        , 0.        ,\n",
       "        0.        , 0.        , 0.        ],\n",
       "       [0.        , 0.        , 0.        , 0.        , 0.        ,\n",
       "        0.        , 0.        , 0.        , 0.        , 0.        ,\n",
       "        0.        , 0.        , 0.        , 0.        , 0.        ,\n",
       "        0.        , 0.        , 0.        , 0.        , 0.        ,\n",
       "        0.        , 0.        , 0.        , 0.        , 0.        ,\n",
       "        0.        , 0.        , 0.        ],\n",
       "       [0.        , 0.        , 0.        , 0.        , 0.        ,\n",
       "        0.        , 0.        , 0.        , 0.        , 0.        ,\n",
       "        0.        , 0.        , 0.01176471, 0.07058824, 0.07058824,\n",
       "        0.07058824, 0.49411765, 0.53333333, 0.68627451, 0.10196078,\n",
       "        0.65098039, 1.        , 0.96862745, 0.49803922, 0.        ,\n",
       "        0.        , 0.        , 0.        ],\n",
       "       [0.        , 0.        , 0.        , 0.        , 0.        ,\n",
       "        0.        , 0.        , 0.        , 0.11764706, 0.14117647,\n",
       "        0.36862745, 0.60392157, 0.66666667, 0.99215686, 0.99215686,\n",
       "        0.99215686, 0.99215686, 0.99215686, 0.88235294, 0.6745098 ,\n",
       "        0.99215686, 0.94901961, 0.76470588, 0.25098039, 0.        ,\n",
       "        0.        , 0.        , 0.        ],\n",
       "       [0.        , 0.        , 0.        , 0.        , 0.        ,\n",
       "        0.        , 0.        , 0.19215686, 0.93333333, 0.99215686,\n",
       "        0.99215686, 0.99215686, 0.99215686, 0.99215686, 0.99215686,\n",
       "        0.99215686, 0.99215686, 0.98431373, 0.36470588, 0.32156863,\n",
       "        0.32156863, 0.21960784, 0.15294118, 0.        , 0.        ,\n",
       "        0.        , 0.        , 0.        ],\n",
       "       [0.        , 0.        , 0.        , 0.        , 0.        ,\n",
       "        0.        , 0.        , 0.07058824, 0.85882353, 0.99215686,\n",
       "        0.99215686, 0.99215686, 0.99215686, 0.99215686, 0.77647059,\n",
       "        0.71372549, 0.96862745, 0.94509804, 0.        , 0.        ,\n",
       "        0.        , 0.        , 0.        , 0.        , 0.        ,\n",
       "        0.        , 0.        , 0.        ],\n",
       "       [0.        , 0.        , 0.        , 0.        , 0.        ,\n",
       "        0.        , 0.        , 0.        , 0.31372549, 0.61176471,\n",
       "        0.41960784, 0.99215686, 0.99215686, 0.80392157, 0.04313725,\n",
       "        0.        , 0.16862745, 0.60392157, 0.        , 0.        ,\n",
       "        0.        , 0.        , 0.        , 0.        , 0.        ,\n",
       "        0.        , 0.        , 0.        ],\n",
       "       [0.        , 0.        , 0.        , 0.        , 0.        ,\n",
       "        0.        , 0.        , 0.        , 0.        , 0.05490196,\n",
       "        0.00392157, 0.60392157, 0.99215686, 0.35294118, 0.        ,\n",
       "        0.        , 0.        , 0.        , 0.        , 0.        ,\n",
       "        0.        , 0.        , 0.        , 0.        , 0.        ,\n",
       "        0.        , 0.        , 0.        ],\n",
       "       [0.        , 0.        , 0.        , 0.        , 0.        ,\n",
       "        0.        , 0.        , 0.        , 0.        , 0.        ,\n",
       "        0.        , 0.54509804, 0.99215686, 0.74509804, 0.00784314,\n",
       "        0.        , 0.        , 0.        , 0.        , 0.        ,\n",
       "        0.        , 0.        , 0.        , 0.        , 0.        ,\n",
       "        0.        , 0.        , 0.        ],\n",
       "       [0.        , 0.        , 0.        , 0.        , 0.        ,\n",
       "        0.        , 0.        , 0.        , 0.        , 0.        ,\n",
       "        0.        , 0.04313725, 0.74509804, 0.99215686, 0.2745098 ,\n",
       "        0.        , 0.        , 0.        , 0.        , 0.        ,\n",
       "        0.        , 0.        , 0.        , 0.        , 0.        ,\n",
       "        0.        , 0.        , 0.        ],\n",
       "       [0.        , 0.        , 0.        , 0.        , 0.        ,\n",
       "        0.        , 0.        , 0.        , 0.        , 0.        ,\n",
       "        0.        , 0.        , 0.1372549 , 0.94509804, 0.88235294,\n",
       "        0.62745098, 0.42352941, 0.00392157, 0.        , 0.        ,\n",
       "        0.        , 0.        , 0.        , 0.        , 0.        ,\n",
       "        0.        , 0.        , 0.        ],\n",
       "       [0.        , 0.        , 0.        , 0.        , 0.        ,\n",
       "        0.        , 0.        , 0.        , 0.        , 0.        ,\n",
       "        0.        , 0.        , 0.        , 0.31764706, 0.94117647,\n",
       "        0.99215686, 0.99215686, 0.46666667, 0.09803922, 0.        ,\n",
       "        0.        , 0.        , 0.        , 0.        , 0.        ,\n",
       "        0.        , 0.        , 0.        ],\n",
       "       [0.        , 0.        , 0.        , 0.        , 0.        ,\n",
       "        0.        , 0.        , 0.        , 0.        , 0.        ,\n",
       "        0.        , 0.        , 0.        , 0.        , 0.17647059,\n",
       "        0.72941176, 0.99215686, 0.99215686, 0.58823529, 0.10588235,\n",
       "        0.        , 0.        , 0.        , 0.        , 0.        ,\n",
       "        0.        , 0.        , 0.        ],\n",
       "       [0.        , 0.        , 0.        , 0.        , 0.        ,\n",
       "        0.        , 0.        , 0.        , 0.        , 0.        ,\n",
       "        0.        , 0.        , 0.        , 0.        , 0.        ,\n",
       "        0.0627451 , 0.36470588, 0.98823529, 0.99215686, 0.73333333,\n",
       "        0.        , 0.        , 0.        , 0.        , 0.        ,\n",
       "        0.        , 0.        , 0.        ],\n",
       "       [0.        , 0.        , 0.        , 0.        , 0.        ,\n",
       "        0.        , 0.        , 0.        , 0.        , 0.        ,\n",
       "        0.        , 0.        , 0.        , 0.        , 0.        ,\n",
       "        0.        , 0.        , 0.97647059, 0.99215686, 0.97647059,\n",
       "        0.25098039, 0.        , 0.        , 0.        , 0.        ,\n",
       "        0.        , 0.        , 0.        ],\n",
       "       [0.        , 0.        , 0.        , 0.        , 0.        ,\n",
       "        0.        , 0.        , 0.        , 0.        , 0.        ,\n",
       "        0.        , 0.        , 0.        , 0.        , 0.18039216,\n",
       "        0.50980392, 0.71764706, 0.99215686, 0.99215686, 0.81176471,\n",
       "        0.00784314, 0.        , 0.        , 0.        , 0.        ,\n",
       "        0.        , 0.        , 0.        ],\n",
       "       [0.        , 0.        , 0.        , 0.        , 0.        ,\n",
       "        0.        , 0.        , 0.        , 0.        , 0.        ,\n",
       "        0.        , 0.        , 0.15294118, 0.58039216, 0.89803922,\n",
       "        0.99215686, 0.99215686, 0.99215686, 0.98039216, 0.71372549,\n",
       "        0.        , 0.        , 0.        , 0.        , 0.        ,\n",
       "        0.        , 0.        , 0.        ],\n",
       "       [0.        , 0.        , 0.        , 0.        , 0.        ,\n",
       "        0.        , 0.        , 0.        , 0.        , 0.        ,\n",
       "        0.09411765, 0.44705882, 0.86666667, 0.99215686, 0.99215686,\n",
       "        0.99215686, 0.99215686, 0.78823529, 0.30588235, 0.        ,\n",
       "        0.        , 0.        , 0.        , 0.        , 0.        ,\n",
       "        0.        , 0.        , 0.        ],\n",
       "       [0.        , 0.        , 0.        , 0.        , 0.        ,\n",
       "        0.        , 0.        , 0.        , 0.09019608, 0.25882353,\n",
       "        0.83529412, 0.99215686, 0.99215686, 0.99215686, 0.99215686,\n",
       "        0.77647059, 0.31764706, 0.00784314, 0.        , 0.        ,\n",
       "        0.        , 0.        , 0.        , 0.        , 0.        ,\n",
       "        0.        , 0.        , 0.        ],\n",
       "       [0.        , 0.        , 0.        , 0.        , 0.        ,\n",
       "        0.        , 0.07058824, 0.67058824, 0.85882353, 0.99215686,\n",
       "        0.99215686, 0.99215686, 0.99215686, 0.76470588, 0.31372549,\n",
       "        0.03529412, 0.        , 0.        , 0.        , 0.        ,\n",
       "        0.        , 0.        , 0.        , 0.        , 0.        ,\n",
       "        0.        , 0.        , 0.        ],\n",
       "       [0.        , 0.        , 0.        , 0.        , 0.21568627,\n",
       "        0.6745098 , 0.88627451, 0.99215686, 0.99215686, 0.99215686,\n",
       "        0.99215686, 0.95686275, 0.52156863, 0.04313725, 0.        ,\n",
       "        0.        , 0.        , 0.        , 0.        , 0.        ,\n",
       "        0.        , 0.        , 0.        , 0.        , 0.        ,\n",
       "        0.        , 0.        , 0.        ],\n",
       "       [0.        , 0.        , 0.        , 0.        , 0.53333333,\n",
       "        0.99215686, 0.99215686, 0.99215686, 0.83137255, 0.52941176,\n",
       "        0.51764706, 0.0627451 , 0.        , 0.        , 0.        ,\n",
       "        0.        , 0.        , 0.        , 0.        , 0.        ,\n",
       "        0.        , 0.        , 0.        , 0.        , 0.        ,\n",
       "        0.        , 0.        , 0.        ],\n",
       "       [0.        , 0.        , 0.        , 0.        , 0.        ,\n",
       "        0.        , 0.        , 0.        , 0.        , 0.        ,\n",
       "        0.        , 0.        , 0.        , 0.        , 0.        ,\n",
       "        0.        , 0.        , 0.        , 0.        , 0.        ,\n",
       "        0.        , 0.        , 0.        , 0.        , 0.        ,\n",
       "        0.        , 0.        , 0.        ],\n",
       "       [0.        , 0.        , 0.        , 0.        , 0.        ,\n",
       "        0.        , 0.        , 0.        , 0.        , 0.        ,\n",
       "        0.        , 0.        , 0.        , 0.        , 0.        ,\n",
       "        0.        , 0.        , 0.        , 0.        , 0.        ,\n",
       "        0.        , 0.        , 0.        , 0.        , 0.        ,\n",
       "        0.        , 0.        , 0.        ],\n",
       "       [0.        , 0.        , 0.        , 0.        , 0.        ,\n",
       "        0.        , 0.        , 0.        , 0.        , 0.        ,\n",
       "        0.        , 0.        , 0.        , 0.        , 0.        ,\n",
       "        0.        , 0.        , 0.        , 0.        , 0.        ,\n",
       "        0.        , 0.        , 0.        , 0.        , 0.        ,\n",
       "        0.        , 0.        , 0.        ]])"
      ]
     },
     "execution_count": 16,
     "metadata": {},
     "output_type": "execute_result"
    }
   ],
   "source": [
    "X_train[0]"
   ]
  },
  {
   "cell_type": "code",
   "execution_count": null,
   "id": "22821e69",
   "metadata": {},
   "outputs": [],
   "source": [
    "#Alternate approach to create ANN \n",
    "\"\"\"\n",
    "model=Sequential(\n",
    "[Flatten(input_shape=(28,28)),\n",
    "Dense(units=150,activation='relu'),\n",
    "Dense(units=100,activation='relu'),\n",
    "Dense(units=10,activation='softmax')\n",
    "]\n",
    ")\n",
    "\"\"\""
   ]
  },
  {
   "cell_type": "code",
   "execution_count": null,
   "id": "f42f157c",
   "metadata": {},
   "outputs": [],
   "source": [
    "#Creating ANN with a simple apprach"
   ]
  },
  {
   "cell_type": "code",
   "execution_count": 26,
   "id": "61184510",
   "metadata": {},
   "outputs": [],
   "source": [
    "model=Sequential()"
   ]
  },
  {
   "cell_type": "code",
   "execution_count": 27,
   "id": "84a2fddf",
   "metadata": {},
   "outputs": [],
   "source": [
    "input_layer=Flatten(input_shape=(28,28))"
   ]
  },
  {
   "cell_type": "code",
   "execution_count": 28,
   "id": "0a33203b",
   "metadata": {},
   "outputs": [],
   "source": [
    "layer1=Dense(units=150,activation='relu')"
   ]
  },
  {
   "cell_type": "code",
   "execution_count": 29,
   "id": "029c1347",
   "metadata": {},
   "outputs": [],
   "source": [
    "layer2=Dense(units=100,activation='relu')"
   ]
  },
  {
   "cell_type": "code",
   "execution_count": 30,
   "id": "d2d0b743",
   "metadata": {},
   "outputs": [],
   "source": [
    "output_layer=Dense(units=10,activation='softmax')"
   ]
  },
  {
   "cell_type": "code",
   "execution_count": 31,
   "id": "f0f6a990",
   "metadata": {},
   "outputs": [],
   "source": [
    "model.add(input_layer)\n",
    "model.add(layer1)\n",
    "model.add(layer2)\n",
    "model.add(output_layer)"
   ]
  },
  {
   "cell_type": "code",
   "execution_count": 32,
   "id": "66b339c5",
   "metadata": {
    "scrolled": true
   },
   "outputs": [
    {
     "name": "stdout",
     "output_type": "stream",
     "text": [
      "Model: \"sequential_1\"\n",
      "_________________________________________________________________\n",
      " Layer (type)                Output Shape              Param #   \n",
      "=================================================================\n",
      " flatten_1 (Flatten)         (None, 784)               0         \n",
      "                                                                 \n",
      " dense_3 (Dense)             (None, 150)               117750    \n",
      "                                                                 \n",
      " dense_4 (Dense)             (None, 100)               15100     \n",
      "                                                                 \n",
      " dense_5 (Dense)             (None, 10)                1010      \n",
      "                                                                 \n",
      "=================================================================\n",
      "Total params: 133,860\n",
      "Trainable params: 133,860\n",
      "Non-trainable params: 0\n",
      "_________________________________________________________________\n"
     ]
    }
   ],
   "source": [
    "model.summary()"
   ]
  },
  {
   "cell_type": "code",
   "execution_count": 33,
   "id": "7f912167",
   "metadata": {},
   "outputs": [
    {
     "data": {
      "text/plain": [
       "[<tf.Variable 'dense_3/kernel:0' shape=(784, 150) dtype=float32, numpy=\n",
       " array([[ 0.03609063, -0.01501314,  0.05259912, ..., -0.0302939 ,\n",
       "          0.00545979, -0.07660206],\n",
       "        [ 0.00800299, -0.07308446,  0.06002444, ...,  0.02762199,\n",
       "          0.04014864, -0.02740399],\n",
       "        [-0.01914273, -0.01176786,  0.07015967, ..., -0.02570089,\n",
       "          0.02553521, -0.06921893],\n",
       "        ...,\n",
       "        [ 0.06467271,  0.01913631,  0.04287355, ...,  0.03704852,\n",
       "         -0.03371518,  0.05311987],\n",
       "        [ 0.04039284,  0.04140539,  0.02583029, ...,  0.02578884,\n",
       "          0.03880884,  0.07358728],\n",
       "        [ 0.04066048, -0.04941056,  0.01723012, ...,  0.05656563,\n",
       "         -0.07162845, -0.04763782]], dtype=float32)>,\n",
       " <tf.Variable 'dense_3/bias:0' shape=(150,) dtype=float32, numpy=\n",
       " array([0., 0., 0., 0., 0., 0., 0., 0., 0., 0., 0., 0., 0., 0., 0., 0., 0.,\n",
       "        0., 0., 0., 0., 0., 0., 0., 0., 0., 0., 0., 0., 0., 0., 0., 0., 0.,\n",
       "        0., 0., 0., 0., 0., 0., 0., 0., 0., 0., 0., 0., 0., 0., 0., 0., 0.,\n",
       "        0., 0., 0., 0., 0., 0., 0., 0., 0., 0., 0., 0., 0., 0., 0., 0., 0.,\n",
       "        0., 0., 0., 0., 0., 0., 0., 0., 0., 0., 0., 0., 0., 0., 0., 0., 0.,\n",
       "        0., 0., 0., 0., 0., 0., 0., 0., 0., 0., 0., 0., 0., 0., 0., 0., 0.,\n",
       "        0., 0., 0., 0., 0., 0., 0., 0., 0., 0., 0., 0., 0., 0., 0., 0., 0.,\n",
       "        0., 0., 0., 0., 0., 0., 0., 0., 0., 0., 0., 0., 0., 0., 0., 0., 0.,\n",
       "        0., 0., 0., 0., 0., 0., 0., 0., 0., 0., 0., 0., 0., 0.],\n",
       "       dtype=float32)>,\n",
       " <tf.Variable 'dense_4/kernel:0' shape=(150, 100) dtype=float32, numpy=\n",
       " array([[ 0.09997512, -0.02135412,  0.07837926, ..., -0.12050503,\n",
       "         -0.08607436,  0.14945711],\n",
       "        [ 0.08912462, -0.02464446,  0.10603301, ...,  0.04989733,\n",
       "          0.05186689, -0.13852789],\n",
       "        [-0.14710206,  0.01466796,  0.03422454, ...,  0.10204662,\n",
       "          0.00508109,  0.01091407],\n",
       "        ...,\n",
       "        [-0.00230305, -0.09757981,  0.14909692, ...,  0.11788823,\n",
       "          0.11500777,  0.1395746 ],\n",
       "        [ 0.05866656, -0.0501431 , -0.02696258, ..., -0.07110072,\n",
       "          0.06770238, -0.12829214],\n",
       "        [ 0.03184171, -0.05359414, -0.09094547, ..., -0.00356875,\n",
       "          0.04311542, -0.00189225]], dtype=float32)>,\n",
       " <tf.Variable 'dense_4/bias:0' shape=(100,) dtype=float32, numpy=\n",
       " array([0., 0., 0., 0., 0., 0., 0., 0., 0., 0., 0., 0., 0., 0., 0., 0., 0.,\n",
       "        0., 0., 0., 0., 0., 0., 0., 0., 0., 0., 0., 0., 0., 0., 0., 0., 0.,\n",
       "        0., 0., 0., 0., 0., 0., 0., 0., 0., 0., 0., 0., 0., 0., 0., 0., 0.,\n",
       "        0., 0., 0., 0., 0., 0., 0., 0., 0., 0., 0., 0., 0., 0., 0., 0., 0.,\n",
       "        0., 0., 0., 0., 0., 0., 0., 0., 0., 0., 0., 0., 0., 0., 0., 0., 0.,\n",
       "        0., 0., 0., 0., 0., 0., 0., 0., 0., 0., 0., 0., 0., 0., 0.],\n",
       "       dtype=float32)>,\n",
       " <tf.Variable 'dense_5/kernel:0' shape=(100, 10) dtype=float32, numpy=\n",
       " array([[ 0.10005176, -0.10901269,  0.02419582, -0.21363425,  0.08808279,\n",
       "         -0.14733367, -0.10769001, -0.08476137, -0.06626539,  0.20541751],\n",
       "        [-0.04025567, -0.13929337, -0.04353409, -0.14153366, -0.11754866,\n",
       "          0.09658903, -0.01227367,  0.15642792, -0.02783304, -0.05978605],\n",
       "        [ 0.1780715 ,  0.20134392, -0.18136251, -0.00921859,  0.21350953,\n",
       "          0.0935849 ,  0.05889201,  0.02416787, -0.06667343,  0.08253428],\n",
       "        [ 0.10953817,  0.08592051, -0.15280572,  0.16783732, -0.03285623,\n",
       "          0.09635085, -0.13016811, -0.03244267,  0.0629608 ,  0.18662536],\n",
       "        [ 0.05738452,  0.07411808, -0.11142658, -0.06644101,  0.02598718,\n",
       "          0.13278842,  0.14924648, -0.20132323, -0.04127561, -0.0811401 ],\n",
       "        [-0.21794213, -0.19132675, -0.080826  ,  0.06019461, -0.16249198,\n",
       "         -0.18033907,  0.11499333,  0.06585836,  0.15849268, -0.18504792],\n",
       "        [-0.12163532, -0.05484962,  0.19034612, -0.19396755,  0.10267285,\n",
       "          0.08044818, -0.17172253,  0.09453312, -0.0086685 ,  0.09951442],\n",
       "        [-0.06108107,  0.03135866, -0.15844473, -0.00660111,  0.23080665,\n",
       "          0.22042191,  0.1518302 , -0.03069775, -0.04673266,  0.06645161],\n",
       "        [-0.14347097,  0.00537404,  0.004043  ,  0.23332283,  0.20881858,\n",
       "         -0.20302956,  0.04018661,  0.13560581, -0.22073512, -0.01538002],\n",
       "        [ 0.11275539,  0.18193996, -0.00476833, -0.20352557,  0.22639257,\n",
       "         -0.05506517,  0.06829593, -0.21004847,  0.13337165, -0.1471062 ],\n",
       "        [ 0.06439045, -0.04205355,  0.23069689,  0.05538175,  0.16414574,\n",
       "          0.01633777,  0.17653322, -0.08885075, -0.12800229,  0.1706489 ],\n",
       "        [-0.04220523,  0.1836958 , -0.20232813, -0.18136993,  0.10174951,\n",
       "         -0.13949546, -0.10078147, -0.14020324, -0.03874077,  0.21112025],\n",
       "        [-0.02055027, -0.20697862, -0.04248114, -0.07768968, -0.07703106,\n",
       "         -0.17312211,  0.00870174,  0.20718661,  0.06519267,  0.07323563],\n",
       "        [-0.00137369,  0.12330049, -0.06796899, -0.0990831 , -0.13409263,\n",
       "          0.0316771 ,  0.17190829, -0.05424263,  0.14082405, -0.07935603],\n",
       "        [-0.04385354, -0.2048251 , -0.13340317, -0.02120577, -0.02197112,\n",
       "          0.19089812,  0.1725879 ,  0.1593737 ,  0.09596536,  0.12129644],\n",
       "        [ 0.0886347 ,  0.18499997,  0.22348529, -0.22270533, -0.06497934,\n",
       "          0.1344471 , -0.22187366,  0.0594151 , -0.22118859,  0.23024455],\n",
       "        [-0.17990848, -0.22148588,  0.2258726 , -0.1753247 , -0.1712421 ,\n",
       "         -0.02683511,  0.21011746,  0.00174755,  0.11415944, -0.15594476],\n",
       "        [-0.01212177, -0.17174292,  0.0532954 ,  0.14461899, -0.1154002 ,\n",
       "          0.1386751 ,  0.05229554, -0.19267103,  0.1526297 ,  0.14113799],\n",
       "        [ 0.12900347,  0.18400434, -0.1438638 ,  0.1968973 , -0.13621074,\n",
       "          0.19012767,  0.14451155,  0.2093187 ,  0.16658697, -0.09522112],\n",
       "        [ 0.00692056,  0.02951398,  0.08502898,  0.07532656, -0.21726063,\n",
       "         -0.20997824,  0.1133669 ,  0.15403941, -0.07593   , -0.18860453],\n",
       "        [ 0.04679686, -0.07766563, -0.10976596, -0.09558789, -0.10775711,\n",
       "         -0.11699022, -0.081971  ,  0.04990709, -0.08131316,  0.14273828],\n",
       "        [ 0.2176792 , -0.13633648, -0.11503905,  0.03200379, -0.18424682,\n",
       "         -0.11194989,  0.00571826,  0.21403939,  0.19082332, -0.18848382],\n",
       "        [-0.16010162, -0.1719913 ,  0.09614739, -0.06473094, -0.03248829,\n",
       "         -0.15651472,  0.21820924, -0.21352717, -0.03343132,  0.06924668],\n",
       "        [-0.12562492, -0.1107408 , -0.1604591 ,  0.07459858,  0.05268803,\n",
       "         -0.01489972, -0.20176223, -0.21100686, -0.08371927,  0.03078511],\n",
       "        [-0.04390772, -0.2043386 , -0.18787277,  0.13323495, -0.06130414,\n",
       "         -0.12039159, -0.16965069,  0.07549873, -0.04582605, -0.124585  ],\n",
       "        [-0.13911626, -0.18682003, -0.08330934, -0.14704984,  0.22714141,\n",
       "          0.05132109, -0.11673586, -0.12687299, -0.10996637,  0.13560262],\n",
       "        [ 0.06672204,  0.09615999, -0.01768194,  0.18178058,  0.11134934,\n",
       "          0.06809536,  0.03802398,  0.22173914, -0.01110879, -0.03825027],\n",
       "        [-0.0371498 , -0.13823001,  0.2142447 , -0.1648485 , -0.11102639,\n",
       "          0.00441268,  0.21102768, -0.14002399, -0.01053326, -0.09087649],\n",
       "        [-0.18136871,  0.09630075,  0.14297223,  0.23284289,  0.01422077,\n",
       "         -0.09028664,  0.08317813, -0.09381969,  0.10017785, -0.06355171],\n",
       "        [ 0.12387559,  0.19566292, -0.0578291 , -0.0857513 ,  0.16114873,\n",
       "          0.21633214, -0.09805864,  0.10740626, -0.14649203,  0.02904236],\n",
       "        [ 0.1080426 ,  0.00685798,  0.22223166, -0.02624938, -0.01335052,\n",
       "         -0.1572724 , -0.20094658, -0.14360733, -0.08172472, -0.00992765],\n",
       "        [-0.02602063, -0.14549291,  0.16650456, -0.18470359, -0.17635961,\n",
       "         -0.06382143,  0.06075153, -0.06512758,  0.1355229 ,  0.09409153],\n",
       "        [ 0.17326483, -0.21475503,  0.21043396,  0.09642836, -0.1516372 ,\n",
       "         -0.17200339, -0.04978658, -0.22546658, -0.1455202 ,  0.18161589],\n",
       "        [ 0.00819509, -0.0509176 ,  0.1417864 , -0.03557555, -0.10301183,\n",
       "          0.21578571, -0.15980957, -0.16146725,  0.04895857,  0.1741719 ],\n",
       "        [ 0.20464936, -0.13997237, -0.03862551, -0.11197083, -0.22271514,\n",
       "          0.15186238,  0.12045985,  0.10651121, -0.16678867,  0.14808771],\n",
       "        [ 0.01881942, -0.1428775 ,  0.00623533,  0.14560187,  0.11320537,\n",
       "          0.16907838,  0.02414685,  0.17344093, -0.00608627,  0.19173318],\n",
       "        [-0.19223231, -0.16111928,  0.08948836, -0.1854916 , -0.08629864,\n",
       "         -0.17123836,  0.01518431, -0.09201224,  0.20157051, -0.06208251],\n",
       "        [ 0.18510696,  0.12485895, -0.17073393,  0.07394707,  0.0277836 ,\n",
       "         -0.15129109, -0.21945754,  0.11107349, -0.00856793,  0.12352189],\n",
       "        [ 0.05224901,  0.11292115,  0.16064164, -0.17883703,  0.19380078,\n",
       "         -0.21351403, -0.16049474, -0.21008165, -0.12749386, -0.1871358 ],\n",
       "        [-0.10993686,  0.04176053, -0.13604085, -0.13472134, -0.07929595,\n",
       "          0.22841614, -0.11646781,  0.05223656, -0.08909865, -0.12541945],\n",
       "        [-0.15584046, -0.11642922,  0.20571497, -0.17308502, -0.08485268,\n",
       "          0.01720992,  0.16208264, -0.10777587, -0.01661351, -0.16547461],\n",
       "        [-0.07334755, -0.18597348,  0.217327  ,  0.09947449,  0.11554265,\n",
       "          0.00348645, -0.02413751, -0.2056541 ,  0.12072039, -0.11869233],\n",
       "        [-0.06450032, -0.07655865, -0.05193137,  0.20909056, -0.13448998,\n",
       "         -0.2093463 , -0.01928471, -0.17781943,  0.08288953, -0.16657162],\n",
       "        [-0.03536546, -0.06645449, -0.02500877,  0.10725823,  0.22785226,\n",
       "          0.22571632,  0.08663514, -0.16706145,  0.10429442,  0.17731178],\n",
       "        [ 0.02329198,  0.19662467, -0.21241558,  0.12868345,  0.16785079,\n",
       "         -0.15232995, -0.14123815, -0.0925346 , -0.08087528, -0.1458896 ],\n",
       "        [ 0.04418296, -0.03150304, -0.01273176, -0.04500751, -0.1616486 ,\n",
       "         -0.09744263, -0.05179666, -0.08492112,  0.05082572, -0.04829612],\n",
       "        [ 0.13979128,  0.17019054,  0.19654304, -0.20116809, -0.06293   ,\n",
       "         -0.09961943, -0.06716678, -0.01494342,  0.11806434,  0.06222591],\n",
       "        [-0.19212407, -0.10249075,  0.19083574,  0.0625174 , -0.18573222,\n",
       "         -0.04573834,  0.16503266,  0.09790057, -0.15853767, -0.01649591],\n",
       "        [ 0.0366489 , -0.0701232 ,  0.22442186,  0.22890803,  0.12696853,\n",
       "         -0.11103147, -0.17799489, -0.1140705 , -0.20655827, -0.10906453],\n",
       "        [-0.15188399, -0.03091419, -0.0676745 , -0.09687567, -0.21526057,\n",
       "          0.0056491 ,  0.20049578, -0.04903214,  0.2091268 ,  0.19033548],\n",
       "        [ 0.19694   , -0.03014745,  0.08789533,  0.06927314, -0.12694165,\n",
       "          0.11642689, -0.17990987,  0.16866389, -0.03861798, -0.04813525],\n",
       "        [-0.07373449,  0.00685981,  0.13261509, -0.09000833,  0.09836   ,\n",
       "          0.14774233,  0.13584486, -0.22648992,  0.05607376,  0.16012856],\n",
       "        [ 0.04230851,  0.12070921, -0.08085306, -0.0509215 ,  0.15964386,\n",
       "          0.17801744,  0.07921103,  0.10071492,  0.02743101,  0.01676607],\n",
       "        [ 0.14624286,  0.0002768 , -0.16628078,  0.10866946,  0.13886464,\n",
       "         -0.21949974,  0.12350771, -0.22743078,  0.08324623,  0.00552788],\n",
       "        [ 0.0770044 ,  0.22918758, -0.09659764,  0.00446196,  0.17564827,\n",
       "          0.20821065, -0.07885078, -0.03704061, -0.09919557,  0.00428239],\n",
       "        [-0.16287418,  0.04645085, -0.08275506,  0.00236145,  0.23076165,\n",
       "          0.08421072, -0.07266705,  0.0729869 , -0.03815682, -0.0865372 ],\n",
       "        [ 0.13426358,  0.20372263, -0.0809446 ,  0.02907985,  0.12228474,\n",
       "         -0.16222998, -0.10404097, -0.04653722, -0.03457704, -0.05894859],\n",
       "        [-0.0037657 , -0.14996116,  0.0021082 , -0.19295347, -0.02949907,\n",
       "          0.17197716, -0.15439138, -0.03851487, -0.03986856,  0.06297266],\n",
       "        [ 0.02773565,  0.01025401,  0.15835598,  0.19447982,  0.16478875,\n",
       "          0.01216264,  0.08050036,  0.17069668, -0.12579548, -0.01298067],\n",
       "        [-0.04898141,  0.1144608 , -0.16896835, -0.19099829,  0.11406171,\n",
       "          0.19127646,  0.06912062,  0.1861144 , -0.02514648, -0.1436467 ],\n",
       "        [ 0.10138839,  0.20462927, -0.21571527, -0.08705382, -0.21852441,\n",
       "          0.05902815, -0.22026488,  0.23150179,  0.09133101, -0.06262559],\n",
       "        [-0.04728782, -0.15404208, -0.11052018,  0.22488168,  0.11457673,\n",
       "          0.22054824,  0.2225638 ,  0.02933654,  0.06720603,  0.1339685 ],\n",
       "        [-0.00805421,  0.01978987,  0.01255965,  0.03858536,  0.00870268,\n",
       "         -0.08861388, -0.07707934,  0.15953633,  0.1638538 , -0.20893988],\n",
       "        [ 0.2138587 , -0.10546805,  0.20219478,  0.11971629,  0.19338772,\n",
       "          0.21661794,  0.22181949, -0.14717469,  0.10055903,  0.1350933 ],\n",
       "        [ 0.23012984, -0.12311531,  0.03850254, -0.19682261,  0.03756019,\n",
       "         -0.13364506, -0.04207437, -0.06007934,  0.21945435,  0.01792896],\n",
       "        [ 0.06393537, -0.08758709, -0.03379242, -0.07127064,  0.17285421,\n",
       "          0.02889374,  0.0273357 ,  0.20226917,  0.16925329, -0.07863049],\n",
       "        [-0.09604199,  0.1287019 , -0.04255775,  0.10592771,  0.09963953,\n",
       "          0.12255809,  0.13996774,  0.05445766,  0.21391255, -0.06203313],\n",
       "        [ 0.16912672, -0.09526783, -0.1513237 , -0.02707577,  0.0035859 ,\n",
       "          0.13853431,  0.20375988,  0.1144388 , -0.20467693,  0.03428534],\n",
       "        [-0.02131134,  0.20107183,  0.05859885, -0.16696379, -0.12358604,\n",
       "          0.05642855, -0.02209218, -0.00563307,  0.18754223, -0.22684711],\n",
       "        [-0.1966823 ,  0.08198124, -0.05870526, -0.0564431 ,  0.01907128,\n",
       "          0.03915587,  0.05202708,  0.09812418,  0.16237342,  0.00844632],\n",
       "        [-0.05035532, -0.06018776, -0.20269808, -0.21002552,  0.07217842,\n",
       "          0.22938985,  0.1146481 ,  0.12841111,  0.04051664, -0.2215242 ],\n",
       "        [-0.16700538, -0.12705351, -0.09177692, -0.23232344,  0.03439257,\n",
       "          0.17408112, -0.21491712, -0.10716742,  0.11987936,  0.07578048],\n",
       "        [-0.07291099,  0.10582358, -0.03587596, -0.22340243, -0.15572464,\n",
       "         -0.23344629, -0.04507706,  0.19676784, -0.1494073 , -0.09725764],\n",
       "        [ 0.14905515,  0.09239784, -0.03861409, -0.06609206,  0.11306232,\n",
       "         -0.20673284, -0.16287312, -0.11965452,  0.18381521, -0.1495088 ],\n",
       "        [-0.13702883, -0.04896387, -0.18792799, -0.04213797,  0.00754856,\n",
       "         -0.18337378, -0.15733147,  0.17949471,  0.05167127, -0.13783506],\n",
       "        [ 0.08625254,  0.06536624,  0.0783684 , -0.10403633, -0.12495395,\n",
       "         -0.17823043,  0.04924813, -0.16487896,  0.10823253, -0.06831992],\n",
       "        [ 0.15302622,  0.05807865, -0.03488013,  0.23310307, -0.09081623,\n",
       "          0.19537288, -0.02745803, -0.11403827,  0.08235255,  0.07245848],\n",
       "        [ 0.02554378,  0.01724651,  0.20284247, -0.09012716, -0.18645102,\n",
       "          0.20274937, -0.185181  ,  0.10972837,  0.18600777, -0.17742866],\n",
       "        [-0.01747787,  0.06097132,  0.04207158, -0.07210444, -0.10542884,\n",
       "         -0.13564467,  0.02260083,  0.16327637, -0.13273063,  0.05047241],\n",
       "        [ 0.10878077, -0.17269513, -0.22659081, -0.21265051, -0.06935555,\n",
       "          0.07836309,  0.05472767,  0.04039088,  0.07831377,  0.02959296],\n",
       "        [-0.07426135, -0.13938558,  0.01353276,  0.22561765, -0.17736962,\n",
       "         -0.17544062, -0.089302  , -0.07773545,  0.06558567,  0.11924592],\n",
       "        [-0.03386174, -0.05199027,  0.05425104,  0.11900899, -0.1171385 ,\n",
       "         -0.08742255,  0.02404976,  0.1646432 , -0.07070497,  0.03656593],\n",
       "        [ 0.1546298 ,  0.07262784,  0.14393023,  0.22177866, -0.11015641,\n",
       "          0.13065293, -0.20154929, -0.19137324,  0.02041146, -0.1442925 ],\n",
       "        [-0.19311044, -0.12100951, -0.22632398,  0.20231065,  0.15931305,\n",
       "          0.09828159,  0.07690951,  0.02948242,  0.03324747, -0.17244294],\n",
       "        [-0.15035674, -0.04153013,  0.13320905, -0.20811316, -0.0719292 ,\n",
       "          0.00866131, -0.17861052,  0.0381012 , -0.16966835,  0.22040781],\n",
       "        [ 0.22667879, -0.14686343, -0.06364459, -0.19033995,  0.21618369,\n",
       "          0.00139691, -0.17348956,  0.0567964 ,  0.15914372,  0.22052619],\n",
       "        [-0.15803163,  0.13485253,  0.10225293, -0.2323069 , -0.19477506,\n",
       "          0.04849848, -0.20428248, -0.02650006, -0.14167342,  0.03177783],\n",
       "        [-0.17029521,  0.02900261,  0.12059611,  0.22021648,  0.01838455,\n",
       "          0.21453786,  0.03212664,  0.22511044, -0.16907972,  0.10178369],\n",
       "        [-0.02520734, -0.2314956 ,  0.21260107, -0.07450959,  0.06403959,\n",
       "         -0.18582213,  0.10788366,  0.03359848,  0.1626926 ,  0.00215714],\n",
       "        [-0.22647966,  0.20564693,  0.06652653,  0.07749569,  0.07715291,\n",
       "         -0.0991174 , -0.12855205,  0.11801562,  0.07458442,  0.00186063],\n",
       "        [ 0.15270376,  0.0446606 ,  0.15694693, -0.12956446,  0.17042401,\n",
       "         -0.12544061, -0.12237979, -0.1492893 , -0.09094732, -0.139394  ],\n",
       "        [ 0.11808443, -0.15837952, -0.21920195,  0.02526626, -0.15326253,\n",
       "          0.2251159 ,  0.14009082, -0.21633163,  0.10969669, -0.07856233],\n",
       "        [-0.08799808,  0.18385336,  0.0156703 , -0.09822169, -0.08630088,\n",
       "          0.15179402, -0.09439623,  0.14525977, -0.12698743,  0.15300277],\n",
       "        [-0.1251857 , -0.00776042, -0.12398295, -0.02659078, -0.06959148,\n",
       "         -0.1309808 , -0.06981382, -0.16947852, -0.1257326 , -0.21294323],\n",
       "        [-0.192732  ,  0.19881383,  0.09586018, -0.0091041 , -0.0911862 ,\n",
       "          0.15615362, -0.07027259,  0.08889925,  0.10745963, -0.2184234 ],\n",
       "        [-0.1129774 ,  0.06501225, -0.03206882,  0.18932423, -0.07895206,\n",
       "         -0.03616807, -0.13743475, -0.20906582, -0.11423276, -0.03220068],\n",
       "        [ 0.16355538,  0.1635069 ,  0.16143572,  0.22274831, -0.07319348,\n",
       "         -0.11289348, -0.04906543, -0.14315134, -0.02317955,  0.2207    ],\n",
       "        [-0.14150664, -0.04968368, -0.04156844,  0.13045794,  0.06379059,\n",
       "          0.03793678,  0.22433957,  0.22969747,  0.1246694 ,  0.12554255],\n",
       "        [-0.09435003,  0.19695342,  0.08137402,  0.13336986, -0.22611594,\n",
       "         -0.09212583,  0.04223552,  0.03782129, -0.14389214, -0.12833431],\n",
       "        [ 0.16659126,  0.19063243,  0.10073531,  0.01473528,  0.01523376,\n",
       "          0.0371249 ,  0.00880024,  0.11988884, -0.15437561,  0.08071586]],\n",
       "       dtype=float32)>,\n",
       " <tf.Variable 'dense_5/bias:0' shape=(10,) dtype=float32, numpy=array([0., 0., 0., 0., 0., 0., 0., 0., 0., 0.], dtype=float32)>]"
      ]
     },
     "execution_count": 33,
     "metadata": {},
     "output_type": "execute_result"
    }
   ],
   "source": [
    "model.weights"
   ]
  },
  {
   "cell_type": "code",
   "execution_count": 34,
   "id": "45f18092",
   "metadata": {},
   "outputs": [],
   "source": [
    "#model.weights[0]"
   ]
  },
  {
   "cell_type": "code",
   "execution_count": 35,
   "id": "723b6b33",
   "metadata": {},
   "outputs": [],
   "source": [
    "#model.weights[0][0]"
   ]
  },
  {
   "cell_type": "code",
   "execution_count": 36,
   "id": "768f7f32",
   "metadata": {},
   "outputs": [],
   "source": [
    "#model.weights[0][1]"
   ]
  },
  {
   "cell_type": "code",
   "execution_count": 37,
   "id": "91f0e5ca",
   "metadata": {},
   "outputs": [],
   "source": [
    "#model.weights[1]"
   ]
  },
  {
   "cell_type": "code",
   "execution_count": 38,
   "id": "9c42bf73",
   "metadata": {},
   "outputs": [],
   "source": [
    "#model.weights[2]"
   ]
  },
  {
   "cell_type": "code",
   "execution_count": 39,
   "id": "a15d51f6",
   "metadata": {},
   "outputs": [],
   "source": [
    "model.compile(optimizer='SGD', loss='sparse_categorical_crossentropy', metrics=['accuracy'])"
   ]
  },
  {
   "cell_type": "code",
   "execution_count": 40,
   "id": "c57e2d44",
   "metadata": {},
   "outputs": [
    {
     "name": "stdout",
     "output_type": "stream",
     "text": [
      "Epoch 1/100\n",
      "1875/1875 [==============================] - 6s 3ms/step - loss: 0.6335 - accuracy: 0.8341 - val_loss: 0.3186 - val_accuracy: 0.9106\n",
      "Epoch 2/100\n",
      "1875/1875 [==============================] - 5s 3ms/step - loss: 0.2916 - accuracy: 0.9168 - val_loss: 0.2488 - val_accuracy: 0.9299\n",
      "Epoch 3/100\n",
      "1875/1875 [==============================] - 5s 3ms/step - loss: 0.2397 - accuracy: 0.9307 - val_loss: 0.2146 - val_accuracy: 0.9368\n",
      "Epoch 4/100\n",
      "1875/1875 [==============================] - 4s 2ms/step - loss: 0.2063 - accuracy: 0.9407 - val_loss: 0.1867 - val_accuracy: 0.9445\n",
      "Epoch 5/100\n",
      "1875/1875 [==============================] - 5s 2ms/step - loss: 0.1821 - accuracy: 0.9475 - val_loss: 0.1717 - val_accuracy: 0.9503\n",
      "Epoch 6/100\n",
      "1875/1875 [==============================] - 5s 3ms/step - loss: 0.1625 - accuracy: 0.9531 - val_loss: 0.1582 - val_accuracy: 0.9532\n",
      "Epoch 7/100\n",
      "1875/1875 [==============================] - 5s 2ms/step - loss: 0.1466 - accuracy: 0.9583 - val_loss: 0.1405 - val_accuracy: 0.9584\n",
      "Epoch 8/100\n",
      "1875/1875 [==============================] - 5s 3ms/step - loss: 0.1330 - accuracy: 0.9621 - val_loss: 0.1368 - val_accuracy: 0.9606\n",
      "Epoch 9/100\n",
      "1875/1875 [==============================] - 5s 3ms/step - loss: 0.1220 - accuracy: 0.9655 - val_loss: 0.1258 - val_accuracy: 0.9619\n",
      "Epoch 10/100\n",
      "1875/1875 [==============================] - 5s 3ms/step - loss: 0.1128 - accuracy: 0.9683 - val_loss: 0.1173 - val_accuracy: 0.9660\n",
      "Epoch 11/100\n",
      "1875/1875 [==============================] - 5s 3ms/step - loss: 0.1041 - accuracy: 0.9706 - val_loss: 0.1142 - val_accuracy: 0.9662\n",
      "Epoch 12/100\n",
      "1875/1875 [==============================] - 5s 3ms/step - loss: 0.0967 - accuracy: 0.9726 - val_loss: 0.1083 - val_accuracy: 0.9668\n",
      "Epoch 13/100\n",
      "1875/1875 [==============================] - 5s 2ms/step - loss: 0.0902 - accuracy: 0.9743 - val_loss: 0.1019 - val_accuracy: 0.9694\n",
      "Epoch 14/100\n",
      "1875/1875 [==============================] - 5s 3ms/step - loss: 0.0845 - accuracy: 0.9763 - val_loss: 0.0968 - val_accuracy: 0.9712\n",
      "Epoch 15/100\n",
      "1875/1875 [==============================] - 5s 3ms/step - loss: 0.0789 - accuracy: 0.9780 - val_loss: 0.0934 - val_accuracy: 0.9719\n",
      "Epoch 16/100\n",
      "1875/1875 [==============================] - 5s 3ms/step - loss: 0.0743 - accuracy: 0.9790 - val_loss: 0.0907 - val_accuracy: 0.9725\n",
      "Epoch 17/100\n",
      "1875/1875 [==============================] - 5s 3ms/step - loss: 0.0702 - accuracy: 0.9802 - val_loss: 0.0896 - val_accuracy: 0.9724\n",
      "Epoch 18/100\n",
      "1875/1875 [==============================] - 5s 3ms/step - loss: 0.0658 - accuracy: 0.9819 - val_loss: 0.0885 - val_accuracy: 0.9723\n",
      "Epoch 19/100\n",
      "1875/1875 [==============================] - 5s 2ms/step - loss: 0.0621 - accuracy: 0.9825 - val_loss: 0.0841 - val_accuracy: 0.9742\n",
      "Epoch 20/100\n",
      "1875/1875 [==============================] - 5s 3ms/step - loss: 0.0588 - accuracy: 0.9837 - val_loss: 0.0817 - val_accuracy: 0.9748\n",
      "Epoch 21/100\n",
      "1875/1875 [==============================] - 5s 3ms/step - loss: 0.0558 - accuracy: 0.9845 - val_loss: 0.0811 - val_accuracy: 0.9750\n",
      "Epoch 22/100\n",
      "1875/1875 [==============================] - 5s 3ms/step - loss: 0.0531 - accuracy: 0.9851 - val_loss: 0.0774 - val_accuracy: 0.9762\n",
      "Epoch 23/100\n",
      "1875/1875 [==============================] - 5s 3ms/step - loss: 0.0501 - accuracy: 0.9863 - val_loss: 0.0792 - val_accuracy: 0.9755\n",
      "Epoch 24/100\n",
      "1875/1875 [==============================] - 5s 3ms/step - loss: 0.0476 - accuracy: 0.9871 - val_loss: 0.0753 - val_accuracy: 0.9767\n",
      "Epoch 25/100\n",
      "1875/1875 [==============================] - 5s 2ms/step - loss: 0.0456 - accuracy: 0.9883 - val_loss: 0.0743 - val_accuracy: 0.9770\n",
      "Epoch 26/100\n",
      "1875/1875 [==============================] - 5s 3ms/step - loss: 0.0431 - accuracy: 0.9886 - val_loss: 0.0731 - val_accuracy: 0.9773\n",
      "Epoch 27/100\n",
      "1875/1875 [==============================] - 4s 2ms/step - loss: 0.0406 - accuracy: 0.9896 - val_loss: 0.0731 - val_accuracy: 0.9766\n",
      "Epoch 28/100\n",
      "1875/1875 [==============================] - 5s 3ms/step - loss: 0.0390 - accuracy: 0.9899 - val_loss: 0.0727 - val_accuracy: 0.9768\n",
      "Epoch 29/100\n",
      "1875/1875 [==============================] - 5s 2ms/step - loss: 0.0370 - accuracy: 0.9909 - val_loss: 0.0715 - val_accuracy: 0.9774\n",
      "Epoch 30/100\n",
      "1875/1875 [==============================] - 5s 2ms/step - loss: 0.0353 - accuracy: 0.9911 - val_loss: 0.0717 - val_accuracy: 0.9784\n",
      "Epoch 31/100\n",
      "1875/1875 [==============================] - 5s 2ms/step - loss: 0.0337 - accuracy: 0.9914 - val_loss: 0.0743 - val_accuracy: 0.9756\n",
      "Epoch 32/100\n",
      "1875/1875 [==============================] - 5s 2ms/step - loss: 0.0320 - accuracy: 0.9924 - val_loss: 0.0707 - val_accuracy: 0.9780\n",
      "Epoch 33/100\n",
      "1875/1875 [==============================] - 5s 3ms/step - loss: 0.0304 - accuracy: 0.9925 - val_loss: 0.0717 - val_accuracy: 0.9782\n",
      "Epoch 34/100\n",
      "1875/1875 [==============================] - 5s 2ms/step - loss: 0.0290 - accuracy: 0.9929 - val_loss: 0.0702 - val_accuracy: 0.9787\n",
      "Epoch 35/100\n",
      "1875/1875 [==============================] - 5s 2ms/step - loss: 0.0277 - accuracy: 0.9936 - val_loss: 0.0690 - val_accuracy: 0.9789\n",
      "Epoch 36/100\n",
      "1875/1875 [==============================] - 5s 3ms/step - loss: 0.0263 - accuracy: 0.9940 - val_loss: 0.0703 - val_accuracy: 0.9782\n",
      "Epoch 37/100\n",
      "1875/1875 [==============================] - 5s 3ms/step - loss: 0.0252 - accuracy: 0.9945 - val_loss: 0.0708 - val_accuracy: 0.9787\n",
      "Epoch 38/100\n",
      "1875/1875 [==============================] - 5s 3ms/step - loss: 0.0241 - accuracy: 0.9947 - val_loss: 0.0691 - val_accuracy: 0.9792\n",
      "Epoch 39/100\n",
      "1875/1875 [==============================] - 5s 3ms/step - loss: 0.0227 - accuracy: 0.9952 - val_loss: 0.0701 - val_accuracy: 0.9787\n",
      "Epoch 40/100\n",
      "1875/1875 [==============================] - 5s 2ms/step - loss: 0.0218 - accuracy: 0.9956 - val_loss: 0.0692 - val_accuracy: 0.9791\n",
      "Epoch 41/100\n",
      "1875/1875 [==============================] - 5s 2ms/step - loss: 0.0208 - accuracy: 0.9960 - val_loss: 0.0686 - val_accuracy: 0.9786\n",
      "Epoch 42/100\n",
      "1875/1875 [==============================] - 5s 2ms/step - loss: 0.0197 - accuracy: 0.9964 - val_loss: 0.0696 - val_accuracy: 0.9794\n",
      "Epoch 43/100\n",
      "1875/1875 [==============================] - 5s 3ms/step - loss: 0.0189 - accuracy: 0.9963 - val_loss: 0.0691 - val_accuracy: 0.9783\n",
      "Epoch 44/100\n",
      "1875/1875 [==============================] - 5s 3ms/step - loss: 0.0181 - accuracy: 0.9969 - val_loss: 0.0688 - val_accuracy: 0.9796\n",
      "Epoch 45/100\n",
      "1875/1875 [==============================] - 5s 3ms/step - loss: 0.0174 - accuracy: 0.9969 - val_loss: 0.0696 - val_accuracy: 0.9791\n",
      "Epoch 46/100\n",
      "1875/1875 [==============================] - 5s 3ms/step - loss: 0.0167 - accuracy: 0.9973 - val_loss: 0.0693 - val_accuracy: 0.9795\n",
      "Epoch 47/100\n",
      "1875/1875 [==============================] - 5s 3ms/step - loss: 0.0159 - accuracy: 0.9974 - val_loss: 0.0690 - val_accuracy: 0.9789\n",
      "Epoch 48/100\n",
      "1875/1875 [==============================] - 5s 2ms/step - loss: 0.0152 - accuracy: 0.9977 - val_loss: 0.0695 - val_accuracy: 0.9793\n",
      "Epoch 49/100\n",
      "1875/1875 [==============================] - 5s 2ms/step - loss: 0.0145 - accuracy: 0.9977 - val_loss: 0.0699 - val_accuracy: 0.9792\n",
      "Epoch 50/100\n",
      "1875/1875 [==============================] - 5s 3ms/step - loss: 0.0139 - accuracy: 0.9980 - val_loss: 0.0689 - val_accuracy: 0.9800\n",
      "Epoch 51/100\n",
      "1875/1875 [==============================] - 5s 3ms/step - loss: 0.0133 - accuracy: 0.9983 - val_loss: 0.0687 - val_accuracy: 0.9799\n",
      "Epoch 52/100\n",
      "1875/1875 [==============================] - 5s 3ms/step - loss: 0.0128 - accuracy: 0.9982 - val_loss: 0.0698 - val_accuracy: 0.9787\n",
      "Epoch 53/100\n",
      "1875/1875 [==============================] - 5s 3ms/step - loss: 0.0122 - accuracy: 0.9985 - val_loss: 0.0685 - val_accuracy: 0.9801\n",
      "Epoch 54/100\n",
      "1875/1875 [==============================] - 5s 2ms/step - loss: 0.0117 - accuracy: 0.9985 - val_loss: 0.0699 - val_accuracy: 0.9796\n",
      "Epoch 55/100\n",
      "1875/1875 [==============================] - 5s 2ms/step - loss: 0.0112 - accuracy: 0.9987 - val_loss: 0.0708 - val_accuracy: 0.9787\n",
      "Epoch 56/100\n",
      "1875/1875 [==============================] - 5s 2ms/step - loss: 0.0107 - accuracy: 0.9988 - val_loss: 0.0752 - val_accuracy: 0.9780\n",
      "Epoch 57/100\n"
     ]
    },
    {
     "name": "stdout",
     "output_type": "stream",
     "text": [
      "1875/1875 [==============================] - 5s 3ms/step - loss: 0.0103 - accuracy: 0.9990 - val_loss: 0.0714 - val_accuracy: 0.9795\n",
      "Epoch 58/100\n",
      "1875/1875 [==============================] - 5s 3ms/step - loss: 0.0098 - accuracy: 0.9990 - val_loss: 0.0702 - val_accuracy: 0.9798\n",
      "Epoch 59/100\n",
      "1875/1875 [==============================] - 5s 3ms/step - loss: 0.0095 - accuracy: 0.9991 - val_loss: 0.0717 - val_accuracy: 0.9795\n",
      "Epoch 60/100\n",
      "1875/1875 [==============================] - 5s 3ms/step - loss: 0.0092 - accuracy: 0.9991 - val_loss: 0.0710 - val_accuracy: 0.9799\n",
      "Epoch 61/100\n",
      "1875/1875 [==============================] - 5s 3ms/step - loss: 0.0088 - accuracy: 0.9992 - val_loss: 0.0717 - val_accuracy: 0.9789\n",
      "Epoch 62/100\n",
      "1875/1875 [==============================] - 5s 2ms/step - loss: 0.0085 - accuracy: 0.9992 - val_loss: 0.0711 - val_accuracy: 0.9800\n",
      "Epoch 63/100\n",
      "1875/1875 [==============================] - 5s 3ms/step - loss: 0.0081 - accuracy: 0.9992 - val_loss: 0.0723 - val_accuracy: 0.9795\n",
      "Epoch 64/100\n",
      "1875/1875 [==============================] - 5s 3ms/step - loss: 0.0079 - accuracy: 0.9993 - val_loss: 0.0713 - val_accuracy: 0.9796\n",
      "Epoch 65/100\n",
      "1875/1875 [==============================] - 5s 3ms/step - loss: 0.0075 - accuracy: 0.9994 - val_loss: 0.0775 - val_accuracy: 0.9779\n",
      "Epoch 66/100\n",
      "1875/1875 [==============================] - 5s 3ms/step - loss: 0.0073 - accuracy: 0.9995 - val_loss: 0.0720 - val_accuracy: 0.9791\n",
      "Epoch 67/100\n",
      "1875/1875 [==============================] - 5s 3ms/step - loss: 0.0070 - accuracy: 0.9995 - val_loss: 0.0733 - val_accuracy: 0.9790\n",
      "Epoch 68/100\n",
      "1875/1875 [==============================] - 5s 3ms/step - loss: 0.0068 - accuracy: 0.9995 - val_loss: 0.0734 - val_accuracy: 0.9794\n",
      "Epoch 69/100\n",
      "1875/1875 [==============================] - 5s 3ms/step - loss: 0.0066 - accuracy: 0.9995 - val_loss: 0.0725 - val_accuracy: 0.9792\n",
      "Epoch 70/100\n",
      "1875/1875 [==============================] - 5s 3ms/step - loss: 0.0063 - accuracy: 0.9995 - val_loss: 0.0730 - val_accuracy: 0.9794\n",
      "Epoch 71/100\n",
      "1875/1875 [==============================] - 5s 3ms/step - loss: 0.0061 - accuracy: 0.9996 - val_loss: 0.0732 - val_accuracy: 0.9789\n",
      "Epoch 72/100\n",
      "1875/1875 [==============================] - 5s 2ms/step - loss: 0.0059 - accuracy: 0.9996 - val_loss: 0.0734 - val_accuracy: 0.9794\n",
      "Epoch 73/100\n",
      "1875/1875 [==============================] - 5s 3ms/step - loss: 0.0057 - accuracy: 0.9996 - val_loss: 0.0740 - val_accuracy: 0.9791\n",
      "Epoch 74/100\n",
      "1875/1875 [==============================] - 5s 3ms/step - loss: 0.0055 - accuracy: 0.9997 - val_loss: 0.0748 - val_accuracy: 0.9793\n",
      "Epoch 75/100\n",
      "1875/1875 [==============================] - 5s 3ms/step - loss: 0.0053 - accuracy: 0.9997 - val_loss: 0.0739 - val_accuracy: 0.9793\n",
      "Epoch 76/100\n",
      "1875/1875 [==============================] - 5s 3ms/step - loss: 0.0051 - accuracy: 0.9997 - val_loss: 0.0743 - val_accuracy: 0.9792\n",
      "Epoch 77/100\n",
      "1875/1875 [==============================] - 5s 3ms/step - loss: 0.0050 - accuracy: 0.9998 - val_loss: 0.0736 - val_accuracy: 0.9794\n",
      "Epoch 78/100\n",
      "1875/1875 [==============================] - 5s 3ms/step - loss: 0.0049 - accuracy: 0.9998 - val_loss: 0.0751 - val_accuracy: 0.9794\n",
      "Epoch 79/100\n",
      "1875/1875 [==============================] - 5s 3ms/step - loss: 0.0047 - accuracy: 0.9997 - val_loss: 0.0750 - val_accuracy: 0.9795\n",
      "Epoch 80/100\n",
      "1875/1875 [==============================] - 5s 3ms/step - loss: 0.0045 - accuracy: 0.9998 - val_loss: 0.0754 - val_accuracy: 0.9784\n",
      "Epoch 81/100\n",
      "1875/1875 [==============================] - 5s 3ms/step - loss: 0.0043 - accuracy: 0.9998 - val_loss: 0.0746 - val_accuracy: 0.9791\n",
      "Epoch 82/100\n",
      "1875/1875 [==============================] - 5s 3ms/step - loss: 0.0043 - accuracy: 0.9999 - val_loss: 0.0752 - val_accuracy: 0.9794\n",
      "Epoch 83/100\n",
      "1875/1875 [==============================] - 5s 2ms/step - loss: 0.0042 - accuracy: 0.9998 - val_loss: 0.0758 - val_accuracy: 0.9793\n",
      "Epoch 84/100\n",
      "1875/1875 [==============================] - 5s 2ms/step - loss: 0.0040 - accuracy: 0.9999 - val_loss: 0.0758 - val_accuracy: 0.9792\n",
      "Epoch 85/100\n",
      "1875/1875 [==============================] - 5s 2ms/step - loss: 0.0039 - accuracy: 0.9998 - val_loss: 0.0756 - val_accuracy: 0.9792\n",
      "Epoch 86/100\n",
      "1875/1875 [==============================] - 5s 2ms/step - loss: 0.0038 - accuracy: 0.9998 - val_loss: 0.0757 - val_accuracy: 0.9796\n",
      "Epoch 87/100\n",
      "1875/1875 [==============================] - 5s 2ms/step - loss: 0.0037 - accuracy: 0.9999 - val_loss: 0.0766 - val_accuracy: 0.9793\n",
      "Epoch 88/100\n",
      "1875/1875 [==============================] - 5s 3ms/step - loss: 0.0036 - accuracy: 0.9999 - val_loss: 0.0767 - val_accuracy: 0.9797\n",
      "Epoch 89/100\n",
      "1875/1875 [==============================] - 5s 2ms/step - loss: 0.0035 - accuracy: 0.9999 - val_loss: 0.0767 - val_accuracy: 0.9792\n",
      "Epoch 90/100\n",
      "1875/1875 [==============================] - 5s 3ms/step - loss: 0.0034 - accuracy: 0.9999 - val_loss: 0.0774 - val_accuracy: 0.9794\n",
      "Epoch 91/100\n",
      "1875/1875 [==============================] - 5s 3ms/step - loss: 0.0033 - accuracy: 1.0000 - val_loss: 0.0777 - val_accuracy: 0.9791\n",
      "Epoch 92/100\n",
      "1875/1875 [==============================] - 5s 2ms/step - loss: 0.0032 - accuracy: 1.0000 - val_loss: 0.0786 - val_accuracy: 0.9795\n",
      "Epoch 93/100\n",
      "1875/1875 [==============================] - 5s 2ms/step - loss: 0.0032 - accuracy: 0.9999 - val_loss: 0.0772 - val_accuracy: 0.9795\n",
      "Epoch 94/100\n",
      "1875/1875 [==============================] - 5s 3ms/step - loss: 0.0030 - accuracy: 0.9999 - val_loss: 0.0774 - val_accuracy: 0.9798\n",
      "Epoch 95/100\n",
      "1875/1875 [==============================] - 5s 3ms/step - loss: 0.0030 - accuracy: 0.9999 - val_loss: 0.0779 - val_accuracy: 0.9791\n",
      "Epoch 96/100\n",
      "1875/1875 [==============================] - 6s 3ms/step - loss: 0.0029 - accuracy: 0.9999 - val_loss: 0.0781 - val_accuracy: 0.9793\n",
      "Epoch 97/100\n",
      "1875/1875 [==============================] - 5s 3ms/step - loss: 0.0028 - accuracy: 1.0000 - val_loss: 0.0783 - val_accuracy: 0.9789\n",
      "Epoch 98/100\n",
      "1875/1875 [==============================] - 5s 3ms/step - loss: 0.0028 - accuracy: 1.0000 - val_loss: 0.0773 - val_accuracy: 0.9801\n",
      "Epoch 99/100\n",
      "1875/1875 [==============================] - 5s 3ms/step - loss: 0.0027 - accuracy: 1.0000 - val_loss: 0.0783 - val_accuracy: 0.9793\n",
      "Epoch 100/100\n",
      "1875/1875 [==============================] - 5s 2ms/step - loss: 0.0027 - accuracy: 0.9999 - val_loss: 0.0792 - val_accuracy: 0.9794\n"
     ]
    }
   ],
   "source": [
    "training_history=model.fit(X_train,y_train,epochs=100,validation_data=(X_test,y_test),verbose=1)"
   ]
  },
  {
   "cell_type": "code",
   "execution_count": 21,
   "id": "64204c3b",
   "metadata": {
    "collapsed": true
   },
   "outputs": [
    {
     "data": {
      "text/plain": [
       "<tf.Tensor: shape=(150,), dtype=float32, numpy=\n",
       "array([-0.04859926, -0.01702459, -0.00704294, -0.03381243, -0.02284458,\n",
       "        0.00508516, -0.0539702 ,  0.00840183, -0.05285231, -0.04533827,\n",
       "       -0.01680057, -0.03038835,  0.07545404,  0.027539  , -0.04278569,\n",
       "        0.0685107 ,  0.06844562, -0.02900127, -0.02497051,  0.03259097,\n",
       "        0.05403654, -0.06525546, -0.04549759,  0.07847205,  0.02286266,\n",
       "        0.06055352,  0.07925665,  0.00151404,  0.03208663,  0.05226855,\n",
       "       -0.06255346,  0.00235745, -0.0400954 ,  0.03083209,  0.02712124,\n",
       "        0.07955243, -0.0209757 , -0.05981169, -0.01914198, -0.06260455,\n",
       "       -0.0558641 ,  0.07149784, -0.0215497 , -0.01493192, -0.03330233,\n",
       "       -0.01893406, -0.02566813, -0.03214659, -0.07535134, -0.00215699,\n",
       "        0.07896726,  0.0549484 ,  0.0558629 ,  0.03115582, -0.00545949,\n",
       "       -0.02982878,  0.04149345, -0.02708772,  0.01906577, -0.06192981,\n",
       "        0.00050507, -0.06527482, -0.02161112, -0.06324169,  0.0525613 ,\n",
       "        0.05373244,  0.03483323, -0.02693645,  0.07433143,  0.01901481,\n",
       "       -0.04298477, -0.07117444,  0.02990598,  0.03500664, -0.04435404,\n",
       "       -0.0573721 , -0.07634491, -0.00249218, -0.00471615,  0.01143648,\n",
       "        0.04331977,  0.00501631,  0.0573718 ,  0.03816854,  0.01392183,\n",
       "       -0.01676642, -0.07565453,  0.0137255 , -0.03685842,  0.06521763,\n",
       "        0.01805092,  0.03322505,  0.02184977,  0.00703228, -0.05866642,\n",
       "       -0.06523501, -0.06350796,  0.07911713, -0.07499404, -0.06894722,\n",
       "       -0.05636502, -0.00597908,  0.07573488, -0.00591724, -0.00028465,\n",
       "       -0.01136796, -0.06580584,  0.02599939,  0.02832798,  0.02654022,\n",
       "       -0.07680754,  0.05808726, -0.05249744,  0.07205762,  0.01799465,\n",
       "       -0.02523583, -0.05992891, -0.07841772, -0.05513527,  0.06090505,\n",
       "       -0.02325241,  0.01892091,  0.04518312, -0.06673531,  0.02641699,\n",
       "       -0.06313524,  0.02637523,  0.07806908,  0.04875544, -0.01938853,\n",
       "        0.0507479 ,  0.06561035,  0.05766529, -0.02434763, -0.05503223,\n",
       "        0.03112628, -0.054086  ,  0.02821636,  0.06767063, -0.03234148,\n",
       "        0.01204829,  0.01443999,  0.07043931, -0.04137778, -0.02152849,\n",
       "        0.00076607,  0.06252015,  0.05153309,  0.01305397, -0.02313947],\n",
       "      dtype=float32)>"
      ]
     },
     "execution_count": 21,
     "metadata": {},
     "output_type": "execute_result"
    }
   ],
   "source": [
    "model.weights[0][0]"
   ]
  },
  {
   "cell_type": "code",
   "execution_count": 22,
   "id": "41248e8d",
   "metadata": {
    "collapsed": true
   },
   "outputs": [
    {
     "data": {
      "text/plain": [
       "<tf.Variable 'dense/bias:0' shape=(150,) dtype=float32, numpy=\n",
       "array([-0.03228896,  0.02262479,  0.02745009, -0.02422062,  0.01018351,\n",
       "       -0.01902376, -0.01593304,  0.07973356, -0.02944754, -0.06144423,\n",
       "        0.04764456,  0.00862834,  0.00497508,  0.03266012,  0.02775624,\n",
       "       -0.0559665 , -0.01378418,  0.0218144 , -0.11661951,  0.05120989,\n",
       "       -0.07681555,  0.09211085,  0.00865202,  0.06935731, -0.01446577,\n",
       "       -0.0623903 , -0.02023844,  0.00224743,  0.066731  ,  0.0570114 ,\n",
       "        0.1403999 ,  0.0097919 ,  0.01183957, -0.02483057,  0.03008537,\n",
       "        0.00548704,  0.10664291,  0.0531831 ,  0.06144885,  0.01486134,\n",
       "        0.00174208,  0.08209984,  0.0247104 ,  0.04930504,  0.05438303,\n",
       "        0.01667795,  0.08112273,  0.04276328,  0.07040107,  0.05254145,\n",
       "        0.05796231, -0.08210286,  0.04812961, -0.0012512 ,  0.08497748,\n",
       "       -0.01930044, -0.00846981, -0.07536331, -0.09442356, -0.03163704,\n",
       "        0.07954549,  0.11915771,  0.06637962,  0.01297244, -0.04309244,\n",
       "       -0.02607362, -0.00422775,  0.11525806,  0.09475292,  0.00802062,\n",
       "        0.01574715, -0.02094218,  0.03976421,  0.02855235,  0.01298751,\n",
       "        0.03078828, -0.06506964,  0.04871608,  0.02742957,  0.12720321,\n",
       "        0.05189768,  0.07483215,  0.09082827,  0.01520398, -0.07699728,\n",
       "        0.04407196,  0.00352761, -0.03081628,  0.01147517, -0.01358115,\n",
       "       -0.03445125, -0.00643773, -0.03956396, -0.05109049,  0.00664001,\n",
       "       -0.02822385,  0.05198901,  0.05082855, -0.01734534,  0.11492348,\n",
       "        0.03848766,  0.02158896,  0.01182674,  0.09851953,  0.09831797,\n",
       "        0.07489883,  0.06829393,  0.07207213, -0.00336258, -0.00579367,\n",
       "        0.03105659,  0.03585001,  0.00305633,  0.04506705, -0.07087495,\n",
       "        0.02893125,  0.01150507,  0.0174243 ,  0.02654243,  0.02825681,\n",
       "        0.07720277, -0.1098829 ,  0.02540698, -0.00639731, -0.04992377,\n",
       "        0.00193811,  0.07493114,  0.01694307, -0.02393291, -0.00752113,\n",
       "        0.00179531,  0.01764169, -0.03679803, -0.06657807,  0.09040247,\n",
       "        0.05263728, -0.0069303 , -0.03532097, -0.00705372,  0.00591391,\n",
       "        0.0331152 ,  0.01440068, -0.00168161, -0.02463429, -0.01466701,\n",
       "       -0.0179336 ,  0.02010759,  0.00324253, -0.00354573,  0.04577052],\n",
       "      dtype=float32)>"
      ]
     },
     "execution_count": 22,
     "metadata": {},
     "output_type": "execute_result"
    }
   ],
   "source": [
    "model.weights[1]"
   ]
  },
  {
   "cell_type": "code",
   "execution_count": 23,
   "id": "e1b77444",
   "metadata": {
    "collapsed": true
   },
   "outputs": [
    {
     "data": {
      "text/plain": [
       "{'loss': [0.6123173832893372,\n",
       "  0.29448679089546204,\n",
       "  0.2429458200931549,\n",
       "  0.20857004821300507,\n",
       "  0.1828863024711609,\n",
       "  0.16286160051822662,\n",
       "  0.14652642607688904,\n",
       "  0.13240763545036316,\n",
       "  0.12107739597558975,\n",
       "  0.11135844141244888,\n",
       "  0.10278882831335068,\n",
       "  0.09555498510599136,\n",
       "  0.08927178382873535,\n",
       "  0.08309229463338852,\n",
       "  0.07818350195884705,\n",
       "  0.07330077886581421,\n",
       "  0.06906081736087799,\n",
       "  0.06551914662122726,\n",
       "  0.0616101436316967,\n",
       "  0.05841001868247986,\n",
       "  0.055460359901189804,\n",
       "  0.05281021445989609,\n",
       "  0.04996471852064133,\n",
       "  0.04744932800531387,\n",
       "  0.04531027004122734,\n",
       "  0.043284036219120026,\n",
       "  0.04117441922426224,\n",
       "  0.039037156850099564,\n",
       "  0.03710044175386429,\n",
       "  0.03529085963964462],\n",
       " 'accuracy': [0.8408666849136353,\n",
       "  0.9157166481018066,\n",
       "  0.9306833148002625,\n",
       "  0.9399833083152771,\n",
       "  0.9478166699409485,\n",
       "  0.9536499977111816,\n",
       "  0.9573666453361511,\n",
       "  0.9616166949272156,\n",
       "  0.9653833508491516,\n",
       "  0.9683166742324829,\n",
       "  0.9704499840736389,\n",
       "  0.9729166626930237,\n",
       "  0.974566638469696,\n",
       "  0.9764999747276306,\n",
       "  0.9781666398048401,\n",
       "  0.979200005531311,\n",
       "  0.980650007724762,\n",
       "  0.9811833500862122,\n",
       "  0.982450008392334,\n",
       "  0.9835500121116638,\n",
       "  0.9847166538238525,\n",
       "  0.9851833581924438,\n",
       "  0.9860166907310486,\n",
       "  0.9867666959762573,\n",
       "  0.9876999855041504,\n",
       "  0.9885500073432922,\n",
       "  0.9891833066940308,\n",
       "  0.9891499876976013,\n",
       "  0.9903666377067566,\n",
       "  0.9907000064849854],\n",
       " 'val_loss': [0.3181278705596924,\n",
       "  0.2531341314315796,\n",
       "  0.2176394760608673,\n",
       "  0.19158029556274414,\n",
       "  0.17047804594039917,\n",
       "  0.15513816475868225,\n",
       "  0.14319002628326416,\n",
       "  0.13142557442188263,\n",
       "  0.12467216700315475,\n",
       "  0.12111814320087433,\n",
       "  0.11596406251192093,\n",
       "  0.10815660655498505,\n",
       "  0.10078216344118118,\n",
       "  0.09939844161272049,\n",
       "  0.0974402129650116,\n",
       "  0.09585417807102203,\n",
       "  0.09373132884502411,\n",
       "  0.08756700903177261,\n",
       "  0.086824432015419,\n",
       "  0.08284509927034378,\n",
       "  0.08366155624389648,\n",
       "  0.082242451608181,\n",
       "  0.07984235137701035,\n",
       "  0.07776525616645813,\n",
       "  0.08149382472038269,\n",
       "  0.0771743655204773,\n",
       "  0.07547947019338608,\n",
       "  0.0740019828081131,\n",
       "  0.07348939776420593,\n",
       "  0.07214007526636124],\n",
       " 'val_accuracy': [0.9104999899864197,\n",
       "  0.925000011920929,\n",
       "  0.9366999864578247,\n",
       "  0.944100022315979,\n",
       "  0.9509000182151794,\n",
       "  0.9550999999046326,\n",
       "  0.9591000080108643,\n",
       "  0.9611999988555908,\n",
       "  0.963100016117096,\n",
       "  0.9650999903678894,\n",
       "  0.9663000106811523,\n",
       "  0.9674999713897705,\n",
       "  0.9697999954223633,\n",
       "  0.9710000157356262,\n",
       "  0.9710999727249146,\n",
       "  0.9717000126838684,\n",
       "  0.9732999801635742,\n",
       "  0.9735000133514404,\n",
       "  0.9743000268936157,\n",
       "  0.9749000072479248,\n",
       "  0.9739999771118164,\n",
       "  0.9750999808311462,\n",
       "  0.9757999777793884,\n",
       "  0.9765999913215637,\n",
       "  0.9761000275611877,\n",
       "  0.9767000079154968,\n",
       "  0.9767000079154968,\n",
       "  0.9771000146865845,\n",
       "  0.9767000079154968,\n",
       "  0.9783999919891357]}"
      ]
     },
     "execution_count": 23,
     "metadata": {},
     "output_type": "execute_result"
    }
   ],
   "source": [
    "training_history.history"
   ]
  },
  {
   "cell_type": "code",
   "execution_count": 53,
   "id": "da65dd1e",
   "metadata": {},
   "outputs": [
    {
     "data": {
      "text/html": [
       "<div>\n",
       "<style scoped>\n",
       "    .dataframe tbody tr th:only-of-type {\n",
       "        vertical-align: middle;\n",
       "    }\n",
       "\n",
       "    .dataframe tbody tr th {\n",
       "        vertical-align: top;\n",
       "    }\n",
       "\n",
       "    .dataframe thead th {\n",
       "        text-align: right;\n",
       "    }\n",
       "</style>\n",
       "<table border=\"1\" class=\"dataframe\">\n",
       "  <thead>\n",
       "    <tr style=\"text-align: right;\">\n",
       "      <th></th>\n",
       "      <th>loss</th>\n",
       "      <th>accuracy</th>\n",
       "      <th>val_loss</th>\n",
       "      <th>val_accuracy</th>\n",
       "    </tr>\n",
       "  </thead>\n",
       "  <tbody>\n",
       "    <tr>\n",
       "      <th>0</th>\n",
       "      <td>0.633529</td>\n",
       "      <td>0.834083</td>\n",
       "      <td>0.318627</td>\n",
       "      <td>0.9106</td>\n",
       "    </tr>\n",
       "    <tr>\n",
       "      <th>1</th>\n",
       "      <td>0.291626</td>\n",
       "      <td>0.916750</td>\n",
       "      <td>0.248759</td>\n",
       "      <td>0.9299</td>\n",
       "    </tr>\n",
       "    <tr>\n",
       "      <th>2</th>\n",
       "      <td>0.239696</td>\n",
       "      <td>0.930667</td>\n",
       "      <td>0.214607</td>\n",
       "      <td>0.9368</td>\n",
       "    </tr>\n",
       "    <tr>\n",
       "      <th>3</th>\n",
       "      <td>0.206279</td>\n",
       "      <td>0.940700</td>\n",
       "      <td>0.186739</td>\n",
       "      <td>0.9445</td>\n",
       "    </tr>\n",
       "    <tr>\n",
       "      <th>4</th>\n",
       "      <td>0.182063</td>\n",
       "      <td>0.947467</td>\n",
       "      <td>0.171662</td>\n",
       "      <td>0.9503</td>\n",
       "    </tr>\n",
       "    <tr>\n",
       "      <th>...</th>\n",
       "      <td>...</td>\n",
       "      <td>...</td>\n",
       "      <td>...</td>\n",
       "      <td>...</td>\n",
       "    </tr>\n",
       "    <tr>\n",
       "      <th>95</th>\n",
       "      <td>0.002909</td>\n",
       "      <td>0.999933</td>\n",
       "      <td>0.078131</td>\n",
       "      <td>0.9793</td>\n",
       "    </tr>\n",
       "    <tr>\n",
       "      <th>96</th>\n",
       "      <td>0.002841</td>\n",
       "      <td>0.999983</td>\n",
       "      <td>0.078347</td>\n",
       "      <td>0.9789</td>\n",
       "    </tr>\n",
       "    <tr>\n",
       "      <th>97</th>\n",
       "      <td>0.002784</td>\n",
       "      <td>0.999967</td>\n",
       "      <td>0.077334</td>\n",
       "      <td>0.9801</td>\n",
       "    </tr>\n",
       "    <tr>\n",
       "      <th>98</th>\n",
       "      <td>0.002714</td>\n",
       "      <td>0.999967</td>\n",
       "      <td>0.078260</td>\n",
       "      <td>0.9793</td>\n",
       "    </tr>\n",
       "    <tr>\n",
       "      <th>99</th>\n",
       "      <td>0.002662</td>\n",
       "      <td>0.999933</td>\n",
       "      <td>0.079215</td>\n",
       "      <td>0.9794</td>\n",
       "    </tr>\n",
       "  </tbody>\n",
       "</table>\n",
       "<p>100 rows × 4 columns</p>\n",
       "</div>"
      ],
      "text/plain": [
       "        loss  accuracy  val_loss  val_accuracy\n",
       "0   0.633529  0.834083  0.318627        0.9106\n",
       "1   0.291626  0.916750  0.248759        0.9299\n",
       "2   0.239696  0.930667  0.214607        0.9368\n",
       "3   0.206279  0.940700  0.186739        0.9445\n",
       "4   0.182063  0.947467  0.171662        0.9503\n",
       "..       ...       ...       ...           ...\n",
       "95  0.002909  0.999933  0.078131        0.9793\n",
       "96  0.002841  0.999983  0.078347        0.9789\n",
       "97  0.002784  0.999967  0.077334        0.9801\n",
       "98  0.002714  0.999967  0.078260        0.9793\n",
       "99  0.002662  0.999933  0.079215        0.9794\n",
       "\n",
       "[100 rows x 4 columns]"
      ]
     },
     "execution_count": 53,
     "metadata": {},
     "output_type": "execute_result"
    }
   ],
   "source": [
    "result=pd.DataFrame(training_history.history)\n",
    "result"
   ]
  },
  {
   "cell_type": "code",
   "execution_count": 54,
   "id": "15178ebd",
   "metadata": {
    "scrolled": false
   },
   "outputs": [
    {
     "data": {
      "text/plain": [
       "<Axes: >"
      ]
     },
     "execution_count": 54,
     "metadata": {},
     "output_type": "execute_result"
    },
    {
     "data": {
      "image/png": "[encoded data removed]",
      "text/plain": [
       "<Figure size 640x480 with 1 Axes>"
      ]
     },
     "metadata": {},
     "output_type": "display_data"
    }
   ],
   "source": [
    "result[[\"loss\",\"val_loss\"]].plot()"
   ]
  },
  {
   "cell_type": "code",
   "execution_count": 55,
   "id": "406eda82",
   "metadata": {},
   "outputs": [
    {
     "data": {
      "text/plain": [
       "<Axes: >"
      ]
     },
     "execution_count": 55,
     "metadata": {},
     "output_type": "execute_result"
    },
    {
     "data": {
      "image/png": "[encoded data removed]",
      "text/plain": [
       "<Figure size 640x480 with 1 Axes>"
      ]
     },
     "metadata": {},
     "output_type": "display_data"
    }
   ],
   "source": [
    "result[[\"accuracy\",\"val_accuracy\"]].plot()"
   ]
  },
  {
   "cell_type": "code",
   "execution_count": 41,
   "id": "7f19e031",
   "metadata": {},
   "outputs": [
    {
     "name": "stdout",
     "output_type": "stream",
     "text": [
      "313/313 [==============================] - 1s 2ms/step\n"
     ]
    }
   ],
   "source": [
    "y_pred=model.predict(X_test)"
   ]
  },
  {
   "cell_type": "code",
   "execution_count": 42,
   "id": "f38f8ce6",
   "metadata": {
    "scrolled": true
   },
   "outputs": [
    {
     "data": {
      "text/plain": [
       "array([[1.60508426e-10, 8.47756518e-11, 9.51702788e-08, ...,\n",
       "        9.99985337e-01, 2.24295982e-09, 6.49631602e-08],\n",
       "       [2.50020794e-12, 3.19671720e-08, 1.00000000e+00, ...,\n",
       "        2.05856783e-17, 5.26368149e-09, 2.68006241e-22],\n",
       "       [1.13595782e-07, 9.99963999e-01, 1.12642583e-05, ...,\n",
       "        1.26592158e-05, 1.02362901e-05, 3.57393226e-08],\n",
       "       ...,\n",
       "       [1.76474620e-18, 8.33328971e-15, 1.29066154e-20, ...,\n",
       "        4.17233970e-10, 8.78807166e-11, 2.71648637e-09],\n",
       "       [2.56028944e-12, 5.16375527e-12, 1.82205919e-16, ...,\n",
       "        1.10271027e-14, 8.38190672e-08, 8.15118609e-15],\n",
       "       [2.74248658e-12, 1.05473686e-15, 7.71810350e-13, ...,\n",
       "        3.61693589e-19, 7.53594202e-15, 3.86504148e-19]], dtype=float32)"
      ]
     },
     "execution_count": 42,
     "metadata": {},
     "output_type": "execute_result"
    }
   ],
   "source": [
    "y_pred"
   ]
  },
  {
   "cell_type": "code",
   "execution_count": 43,
   "id": "54c1c077",
   "metadata": {},
   "outputs": [
    {
     "data": {
      "text/plain": [
       "(10000, 10)"
      ]
     },
     "execution_count": 43,
     "metadata": {},
     "output_type": "execute_result"
    }
   ],
   "source": [
    "y_pred.shape"
   ]
  },
  {
   "cell_type": "code",
   "execution_count": 44,
   "id": "f54b0e73",
   "metadata": {},
   "outputs": [
    {
     "data": {
      "text/plain": [
       "2"
      ]
     },
     "execution_count": 44,
     "metadata": {},
     "output_type": "execute_result"
    }
   ],
   "source": [
    "y_pred.ndim"
   ]
  },
  {
   "cell_type": "code",
   "execution_count": 45,
   "id": "41a7ade8",
   "metadata": {},
   "outputs": [
    {
     "data": {
      "text/plain": [
       "array([1.6050843e-10, 8.4775652e-11, 9.5170279e-08, 1.4461765e-05,\n",
       "       3.8740431e-14, 1.3389105e-10, 1.5071633e-15, 9.9998534e-01,\n",
       "       2.2429598e-09, 6.4963160e-08], dtype=float32)"
      ]
     },
     "execution_count": 45,
     "metadata": {},
     "output_type": "execute_result"
    }
   ],
   "source": [
    "y_pred[0]"
   ]
  },
  {
   "cell_type": "code",
   "execution_count": 46,
   "id": "a63310ee",
   "metadata": {},
   "outputs": [
    {
     "data": {
      "text/plain": [
       "7"
      ]
     },
     "execution_count": 46,
     "metadata": {},
     "output_type": "execute_result"
    }
   ],
   "source": [
    "y_test[0]"
   ]
  },
  {
   "cell_type": "code",
   "execution_count": 47,
   "id": "84d88f5a",
   "metadata": {
    "colab": {
     "base_uri": "https://localhost:8080/",
     "height": 282
    },
    "id": "CayeiuS2eE7u",
    "outputId": "47030f18-90bd-40c2-f428-0ece3e4a0f72"
   },
   "outputs": [
    {
     "data": {
      "text/plain": [
       "<matplotlib.image.AxesImage at 0x236c68f2b00>"
      ]
     },
     "execution_count": 47,
     "metadata": {},
     "output_type": "execute_result"
    },
    {
     "data": {
      "image/png": "[encoded data removed]",
      "text/plain": [
       "<Figure size 640x480 with 1 Axes>"
      ]
     },
     "metadata": {},
     "output_type": "display_data"
    }
   ],
   "source": [
    "plt.imshow(X_test[0],cmap='gray')"
   ]
  },
  {
   "cell_type": "code",
   "execution_count": 48,
   "id": "c044ebee",
   "metadata": {
    "colab": {
     "base_uri": "https://localhost:8080/"
    },
    "id": "lIf1ksseebi-",
    "outputId": "2a49518b-23dc-4ca4-b94f-b68395120f43"
   },
   "outputs": [
    {
     "data": {
      "text/plain": [
       "7"
      ]
     },
     "execution_count": 48,
     "metadata": {},
     "output_type": "execute_result"
    }
   ],
   "source": [
    "np.argmax(y_pred[0])"
   ]
  },
  {
   "cell_type": "code",
   "execution_count": 49,
   "id": "383b80cc",
   "metadata": {
    "colab": {
     "base_uri": "https://localhost:8080/"
    },
    "id": "FAlOXayO1hA7",
    "outputId": "2da89db7-f3b9-41e4-b0ca-b2d93ec5f08f"
   },
   "outputs": [
    {
     "data": {
      "text/plain": [
       "array([7, 2, 1, 0, 4, 1, 4, 9, 5, 9], dtype=uint8)"
      ]
     },
     "execution_count": 49,
     "metadata": {},
     "output_type": "execute_result"
    }
   ],
   "source": [
    "y_test[:10]"
   ]
  },
  {
   "cell_type": "code",
   "execution_count": 50,
   "id": "909306fa",
   "metadata": {
    "id": "yGdBKmI-fVTA"
   },
   "outputs": [],
   "source": [
    "y_pred_10=y_pred[0:10]"
   ]
  },
  {
   "cell_type": "code",
   "execution_count": 51,
   "id": "604f52ed",
   "metadata": {
    "colab": {
     "base_uri": "https://localhost:8080/",
     "height": 142
    },
    "id": "pHdmX-wx1tb9",
    "outputId": "e3dcc029-5ee2-45e7-cc37-6e3661619311"
   },
   "outputs": [
    {
     "data": {
      "image/png": "[encoded data removed]",
      "text/plain": [
       "<Figure size 2000x1000 with 10 Axes>"
      ]
     },
     "metadata": {},
     "output_type": "display_data"
    }
   ],
   "source": [
    "# Display some images\n",
    "fig, axes = plt.subplots(ncols=10, sharex=False, \n",
    "    sharey=True, figsize=(20, 10))\n",
    "for i in range(10):\n",
    "    axes[i].set_title(str(y_test[i])+\"-\"+str(np.argmax(y_pred_10[i])))\n",
    "    axes[i].imshow(X_test[i], cmap='gray')\n",
    "    axes[i].get_xaxis().set_visible(False)\n",
    "    axes[i].get_yaxis().set_visible(False)\n",
    "plt.show()"
   ]
  },
  {
   "cell_type": "code",
   "execution_count": null,
   "id": "66ca85a9",
   "metadata": {},
   "outputs": [],
   "source": []
  },
  {
   "cell_type": "code",
   "execution_count": 58,
   "id": "a3403025",
   "metadata": {
    "colab": {
     "base_uri": "https://localhost:8080/"
    },
    "id": "wfl9Wh3q2ePV",
    "outputId": "aee14acf-4aa5-4445-c226-f7e653e4d65a"
   },
   "outputs": [
    {
     "data": {
      "text/plain": [
       "array([7, 2, 1, ..., 4, 5, 6], dtype=int64)"
      ]
     },
     "execution_count": 58,
     "metadata": {},
     "output_type": "execute_result"
    }
   ],
   "source": [
    "final_y_predicted=np.argmax(y_pred,axis=1)\n",
    "final_y_predicted"
   ]
  },
  {
   "cell_type": "code",
   "execution_count": 59,
   "id": "00b29032",
   "metadata": {
    "colab": {
     "base_uri": "https://localhost:8080/"
    },
    "id": "X0O_aZGq6_R3",
    "outputId": "dcab0943-f218-4adf-a7c9-3458d02090a9"
   },
   "outputs": [
    {
     "data": {
      "text/plain": [
       "<tf.Tensor: shape=(10, 10), dtype=int32, numpy=\n",
       "array([[ 972,    0,    0,    1,    1,    0,    1,    1,    3,    1],\n",
       "       [   0, 1126,    1,    1,    0,    1,    2,    1,    3,    0],\n",
       "       [   4,    1, 1009,    6,    2,    0,    1,    4,    5,    0],\n",
       "       [   1,    0,    4,  989,    0,    3,    0,    4,    2,    7],\n",
       "       [   1,    0,    4,    0,  963,    0,    2,    1,    1,   10],\n",
       "       [   2,    0,    0,    8,    2,  867,    5,    1,    5,    2],\n",
       "       [   4,    2,    1,    1,    5,    4,  938,    1,    2,    0],\n",
       "       [   2,    4,    9,    7,    0,    0,    0,  998,    4,    4],\n",
       "       [   1,    0,    4,    3,    2,    6,    3,    1,  951,    3],\n",
       "       [   3,    3,    0,    3,    7,    2,    1,    6,    3,  981]])>"
      ]
     },
     "execution_count": 59,
     "metadata": {},
     "output_type": "execute_result"
    }
   ],
   "source": [
    "cm = tf.math.confusion_matrix(labels=y_test,predictions=final_y_predicted)\n",
    "cm"
   ]
  },
  {
   "cell_type": "code",
   "execution_count": 113,
   "id": "b61f4bde",
   "metadata": {
    "colab": {
     "base_uri": "https://localhost:8080/",
     "height": 465
    },
    "id": "nPkVSmXl7Of1",
    "outputId": "c8a4b239-8e90-46be-abfd-b5b61e891f43",
    "scrolled": false
   },
   "outputs": [
    {
     "data": {
      "text/plain": [
       "Text(154.75, 0.5, 'Actual  digit')"
      ]
     },
     "execution_count": 113,
     "metadata": {},
     "output_type": "execute_result"
    },
    {
     "data": {
      "image/png": "[encoded data removed]",
      "text/plain": [
       "<Figure size 1500x700 with 2 Axes>"
      ]
     },
     "metadata": {},
     "output_type": "display_data"
    }
   ],
   "source": [
    "#results from old ANN with 5 neurons in 1st hidden layer with accuracy 60%\n",
    "import seaborn as sns\n",
    "sns.set(rc={'figure.figsize':(15,7)})\n",
    "sns.heatmap(cm,annot=True,cmap='PuBu_r',fmt='g')\n",
    "plt.xlabel(\"Predicted digit\")\n",
    "plt.ylabel(\"Actual  digit\") "
   ]
  },
  {
   "cell_type": "code",
   "execution_count": 60,
   "id": "eb65142d",
   "metadata": {},
   "outputs": [
    {
     "data": {
      "text/plain": [
       "Text(154.75, 0.5, 'Actual  digit')"
      ]
     },
     "execution_count": 60,
     "metadata": {},
     "output_type": "execute_result"
    },
    {
     "data": {
      "image/png": "[encoded data removed]",
      "text/plain": [
       "<Figure size 1500x700 with 2 Axes>"
      ]
     },
     "metadata": {},
     "output_type": "display_data"
    }
   ],
   "source": [
    "#new results 99% acc.\n",
    "import seaborn as sns\n",
    "sns.set(rc={'figure.figsize':(15,7)})\n",
    "sns.heatmap(cm,annot=True,cmap='PuBu_r',fmt='g')\n",
    "plt.xlabel(\"Predicted digit\")\n",
    "plt.ylabel(\"Actual  digit\") "
   ]
  },
  {
   "cell_type": "code",
   "execution_count": null,
   "id": "1936b3de",
   "metadata": {},
   "outputs": [],
   "source": []
  }
 ],
 "metadata": {
  "kernelspec": {
   "display_name": "Python 3 (ipykernel)",
   "language": "python",
   "name": "python3"
  },
  "language_info": {
   "codemirror_mode": {
    "name": "ipython",
    "version": 3
   },
   "file_extension": ".py",
   "mimetype": "text/x-python",
   "name": "python",
   "nbconvert_exporter": "python",
   "pygments_lexer": "ipython3",
   "version": "3.10.9"
  }
 },
 "nbformat": 4,
 "nbformat_minor": 5
}
